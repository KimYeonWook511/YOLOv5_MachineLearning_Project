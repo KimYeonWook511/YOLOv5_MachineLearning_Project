{
  "nbformat": 4,
  "nbformat_minor": 0,
  "metadata": {
    "colab": {
      "provenance": [],
      "gpuType": "T4"
    },
    "kernelspec": {
      "name": "python3",
      "display_name": "Python 3"
    },
    "language_info": {
      "name": "python"
    },
    "accelerator": "GPU"
  },
  "cells": [
    {
      "cell_type": "markdown",
      "source": [
        "# 202347011 김연욱\n",
        " - 2023년 머신러닝 프로젝트\n",
        " - YOLOv5"
      ],
      "metadata": {
        "id": "nuzwAEcdeTB7"
      }
    },
    {
      "cell_type": "markdown",
      "source": [
        "## 구글 드라이브 연결"
      ],
      "metadata": {
        "id": "Bt3TizcinPSI"
      }
    },
    {
      "cell_type": "code",
      "execution_count": null,
      "metadata": {
        "id": "cF7NcsezDZrX",
        "colab": {
          "base_uri": "https://localhost:8080/"
        },
        "outputId": "04fec134-c33e-4dfd-bf83-fc2ab810cca7"
      },
      "outputs": [
        {
          "output_type": "stream",
          "name": "stdout",
          "text": [
            "Mounted at /content/drive\n"
          ]
        }
      ],
      "source": [
        "#구글 드라이브 연결\n",
        "\n",
        "from google.colab import drive\n",
        "drive.mount('/content/drive')"
      ]
    },
    {
      "cell_type": "markdown",
      "source": [
        "---"
      ],
      "metadata": {
        "id": "iVQ_yMyQnYEE"
      }
    },
    {
      "cell_type": "markdown",
      "source": [
        "## YOLOv5 git clone"
      ],
      "metadata": {
        "id": "KJrrmhvonTZf"
      }
    },
    {
      "cell_type": "code",
      "source": [
        "# 내 구글 드라이브로 이동\n",
        "# %cd \"/content/drive/MyDrive\"\n",
        "\n",
        "# 구글 드라이브는 already exists 발생할 수 있음\n",
        "# 그래서 런타임 끊기면 초기화 되는 위치('/contet')로\n",
        "%cd '/content'\n",
        "\n",
        "# 현재 위치에 yolov5 git clone하기\n",
        "!git clone https://github.com/ultralytics/yolov5.git"
      ],
      "metadata": {
        "id": "YEunMDzhJ-2o",
        "colab": {
          "base_uri": "https://localhost:8080/"
        },
        "outputId": "4a880122-708d-4f2f-a540-0e7bd4714240"
      },
      "execution_count": null,
      "outputs": [
        {
          "output_type": "stream",
          "name": "stdout",
          "text": [
            "/content\n",
            "Cloning into 'yolov5'...\n",
            "remote: Enumerating objects: 16083, done.\u001b[K\n",
            "remote: Counting objects: 100% (27/27), done.\u001b[K\n",
            "remote: Compressing objects: 100% (26/26), done.\u001b[K\n",
            "remote: Total 16083 (delta 7), reused 12 (delta 1), pack-reused 16056\u001b[K\n",
            "Receiving objects: 100% (16083/16083), 14.65 MiB | 4.57 MiB/s, done.\n",
            "Resolving deltas: 100% (11039/11039), done.\n"
          ]
        }
      ]
    },
    {
      "cell_type": "markdown",
      "source": [
        "---"
      ],
      "metadata": {
        "id": "huiCIQeCnOJm"
      }
    },
    {
      "cell_type": "markdown",
      "source": [
        "## 필수 라이브러리 설치"
      ],
      "metadata": {
        "id": "L8ggI34ynEJz"
      }
    },
    {
      "cell_type": "code",
      "source": [
        "%cd '/content/yolov5'\n",
        "\n",
        "%pip install --upgrade --force-reinstall -qr requirements.txt\n",
        "\n",
        "# pip install option\n",
        "# -q : 더 적은 출력 (간단한 출력)\n",
        "# -r <파일> : 주어진 요구 사항 파일에서 설치\n",
        "# --upgrade : 업그레이드\n",
        "# --force-reinstall"
      ],
      "metadata": {
        "id": "jAS4Niw8eLVA",
        "colab": {
          "base_uri": "https://localhost:8080/"
        },
        "outputId": "79d69916-d92f-464f-b171-d4a0699d1c16"
      },
      "execution_count": null,
      "outputs": [
        {
          "output_type": "stream",
          "name": "stdout",
          "text": [
            "/content/yolov5\n",
            "\u001b[2K     \u001b[90m━━━━━━━━━━━━━━━━━━━━━━━━━━━━━━━━━━━━━━━━\u001b[0m \u001b[32m190.6/190.6 kB\u001b[0m \u001b[31m4.5 MB/s\u001b[0m eta \u001b[36m0:00:00\u001b[0m\n",
            "\u001b[2K     \u001b[90m━━━━━━━━━━━━━━━━━━━━━━━━━━━━━━━━━━━━━━━━\u001b[0m \u001b[32m11.6/11.6 MB\u001b[0m \u001b[31m52.4 MB/s\u001b[0m eta \u001b[36m0:00:00\u001b[0m\n",
            "\u001b[2K     \u001b[90m━━━━━━━━━━━━━━━━━━━━━━━━━━━━━━━━━━━━━━━━\u001b[0m \u001b[32m18.2/18.2 MB\u001b[0m \u001b[31m93.0 MB/s\u001b[0m eta \u001b[36m0:00:00\u001b[0m\n",
            "\u001b[2K     \u001b[90m━━━━━━━━━━━━━━━━━━━━━━━━━━━━━━━━━━━━━━━━\u001b[0m \u001b[32m61.7/61.7 MB\u001b[0m \u001b[31m10.2 MB/s\u001b[0m eta \u001b[36m0:00:00\u001b[0m\n",
            "\u001b[2K     \u001b[90m━━━━━━━━━━━━━━━━━━━━━━━━━━━━━━━━━━━━━━━━\u001b[0m \u001b[32m3.6/3.6 MB\u001b[0m \u001b[31m75.9 MB/s\u001b[0m eta \u001b[36m0:00:00\u001b[0m\n",
            "\u001b[2K     \u001b[90m━━━━━━━━━━━━━━━━━━━━━━━━━━━━━━━━━━━━━━━━\u001b[0m \u001b[32m283.6/283.6 kB\u001b[0m \u001b[31m34.9 MB/s\u001b[0m eta \u001b[36m0:00:00\u001b[0m\n",
            "\u001b[2K     \u001b[90m━━━━━━━━━━━━━━━━━━━━━━━━━━━━━━━━━━━━━━━━\u001b[0m \u001b[32m705.5/705.5 kB\u001b[0m \u001b[31m60.5 MB/s\u001b[0m eta \u001b[36m0:00:00\u001b[0m\n",
            "\u001b[2K     \u001b[90m━━━━━━━━━━━━━━━━━━━━━━━━━━━━━━━━━━━━━━━━\u001b[0m \u001b[32m62.6/62.6 kB\u001b[0m \u001b[31m9.5 MB/s\u001b[0m eta \u001b[36m0:00:00\u001b[0m\n",
            "\u001b[2K     \u001b[90m━━━━━━━━━━━━━━━━━━━━━━━━━━━━━━━━━━━━━━━━\u001b[0m \u001b[32m36.4/36.4 MB\u001b[0m \u001b[31m36.4 MB/s\u001b[0m eta \u001b[36m0:00:00\u001b[0m\n",
            "\u001b[2K     \u001b[90m━━━━━━━━━━━━━━━━━━━━━━━━━━━━━━━━━━━━━━━━\u001b[0m \u001b[32m670.2/670.2 MB\u001b[0m \u001b[31m2.7 MB/s\u001b[0m eta \u001b[36m0:00:00\u001b[0m\n",
            "\u001b[2K     \u001b[90m━━━━━━━━━━━━━━━━━━━━━━━━━━━━━━━━━━━━━━━━\u001b[0m \u001b[32m6.8/6.8 MB\u001b[0m \u001b[31m119.1 MB/s\u001b[0m eta \u001b[36m0:00:00\u001b[0m\n",
            "\u001b[2K     \u001b[90m━━━━━━━━━━━━━━━━━━━━━━━━━━━━━━━━━━━━━━━━\u001b[0m \u001b[32m78.3/78.3 kB\u001b[0m \u001b[31m11.2 MB/s\u001b[0m eta \u001b[36m0:00:00\u001b[0m\n",
            "\u001b[2K     \u001b[90m━━━━━━━━━━━━━━━━━━━━━━━━━━━━━━━━━━━━━━━━\u001b[0m \u001b[32m646.6/646.6 kB\u001b[0m \u001b[31m64.8 MB/s\u001b[0m eta \u001b[36m0:00:00\u001b[0m\n",
            "\u001b[2K     \u001b[90m━━━━━━━━━━━━━━━━━━━━━━━━━━━━━━━━━━━━━━━━\u001b[0m \u001b[32m12.3/12.3 MB\u001b[0m \u001b[31m87.6 MB/s\u001b[0m eta \u001b[36m0:00:00\u001b[0m\n",
            "\u001b[2K     \u001b[90m━━━━━━━━━━━━━━━━━━━━━━━━━━━━━━━━━━━━━━━━\u001b[0m \u001b[32m294.6/294.6 kB\u001b[0m \u001b[31m34.6 MB/s\u001b[0m eta \u001b[36m0:00:00\u001b[0m\n",
            "\u001b[2K     \u001b[90m━━━━━━━━━━━━━━━━━━━━━━━━━━━━━━━━━━━━━━━━\u001b[0m \u001b[32m819.5/819.5 kB\u001b[0m \u001b[31m58.6 MB/s\u001b[0m eta \u001b[36m0:00:00\u001b[0m\n",
            "\u001b[2K     \u001b[90m━━━━━━━━━━━━━━━━━━━━━━━━━━━━━━━━━━━━━━━━\u001b[0m \u001b[32m62.7/62.7 kB\u001b[0m \u001b[31m8.8 MB/s\u001b[0m eta \u001b[36m0:00:00\u001b[0m\n",
            "\u001b[2K     \u001b[90m━━━━━━━━━━━━━━━━━━━━━━━━━━━━━━━━━━━━━━━━\u001b[0m \u001b[32m310.7/310.7 kB\u001b[0m \u001b[31m34.7 MB/s\u001b[0m eta \u001b[36m0:00:00\u001b[0m\n",
            "\u001b[2K     \u001b[90m━━━━━━━━━━━━━━━━━━━━━━━━━━━━━━━━━━━━━━━━\u001b[0m \u001b[32m4.6/4.6 MB\u001b[0m \u001b[31m48.9 MB/s\u001b[0m eta \u001b[36m0:00:00\u001b[0m\n",
            "\u001b[2K     \u001b[90m━━━━━━━━━━━━━━━━━━━━━━━━━━━━━━━━━━━━━━━━\u001b[0m \u001b[32m1.6/1.6 MB\u001b[0m \u001b[31m70.1 MB/s\u001b[0m eta \u001b[36m0:00:00\u001b[0m\n",
            "\u001b[2K     \u001b[90m━━━━━━━━━━━━━━━━━━━━━━━━━━━━━━━━━━━━━━━━\u001b[0m \u001b[32m53.0/53.0 kB\u001b[0m \u001b[31m7.6 MB/s\u001b[0m eta \u001b[36m0:00:00\u001b[0m\n",
            "\u001b[2K     \u001b[90m━━━━━━━━━━━━━━━━━━━━━━━━━━━━━━━━━━━━━━━━\u001b[0m \u001b[32m103.1/103.1 kB\u001b[0m \u001b[31m14.3 MB/s\u001b[0m eta \u001b[36m0:00:00\u001b[0m\n",
            "\u001b[2K     \u001b[90m━━━━━━━━━━━━━━━━━━━━━━━━━━━━━━━━━━━━━━━━\u001b[0m \u001b[32m247.7/247.7 kB\u001b[0m \u001b[31m24.5 MB/s\u001b[0m eta \u001b[36m0:00:00\u001b[0m\n",
            "\u001b[2K     \u001b[90m━━━━━━━━━━━━━━━━━━━━━━━━━━━━━━━━━━━━━━━━\u001b[0m \u001b[32m142.1/142.1 kB\u001b[0m \u001b[31m17.3 MB/s\u001b[0m eta \u001b[36m0:00:00\u001b[0m\n",
            "\u001b[2K     \u001b[90m━━━━━━━━━━━━━━━━━━━━━━━━━━━━━━━━━━━━━━━━\u001b[0m \u001b[32m61.6/61.6 kB\u001b[0m \u001b[31m8.2 MB/s\u001b[0m eta \u001b[36m0:00:00\u001b[0m\n",
            "\u001b[2K     \u001b[90m━━━━━━━━━━━━━━━━━━━━━━━━━━━━━━━━━━━━━━━━\u001b[0m \u001b[32m104.6/104.6 kB\u001b[0m \u001b[31m14.6 MB/s\u001b[0m eta \u001b[36m0:00:00\u001b[0m\n",
            "\u001b[2K     \u001b[90m━━━━━━━━━━━━━━━━━━━━━━━━━━━━━━━━━━━━━━━━\u001b[0m \u001b[32m162.5/162.5 kB\u001b[0m \u001b[31m22.4 MB/s\u001b[0m eta \u001b[36m0:00:00\u001b[0m\n",
            "\u001b[2K     \u001b[90m━━━━━━━━━━━━━━━━━━━━━━━━━━━━━━━━━━━━━━━━\u001b[0m \u001b[32m5.7/5.7 MB\u001b[0m \u001b[31m36.7 MB/s\u001b[0m eta \u001b[36m0:00:00\u001b[0m\n",
            "\u001b[2K     \u001b[90m━━━━━━━━━━━━━━━━━━━━━━━━━━━━━━━━━━━━━━━━\u001b[0m \u001b[32m1.6/1.6 MB\u001b[0m \u001b[31m74.0 MB/s\u001b[0m eta \u001b[36m0:00:00\u001b[0m\n",
            "\u001b[2K     \u001b[90m━━━━━━━━━━━━━━━━━━━━━━━━━━━━━━━━━━━━━━━━\u001b[0m \u001b[32m133.1/133.1 kB\u001b[0m \u001b[31m18.5 MB/s\u001b[0m eta \u001b[36m0:00:00\u001b[0m\n",
            "\u001b[2K     \u001b[90m━━━━━━━━━━━━━━━━━━━━━━━━━━━━━━━━━━━━━━━━\u001b[0m \u001b[32m168.9/168.9 kB\u001b[0m \u001b[31m14.3 MB/s\u001b[0m eta \u001b[36m0:00:00\u001b[0m\n",
            "\u001b[2K     \u001b[90m━━━━━━━━━━━━━━━━━━━━━━━━━━━━━━━━━━━━━━━━\u001b[0m \u001b[32m23.7/23.7 MB\u001b[0m \u001b[31m40.1 MB/s\u001b[0m eta \u001b[36m0:00:00\u001b[0m\n",
            "\u001b[2K     \u001b[90m━━━━━━━━━━━━━━━━━━━━━━━━━━━━━━━━━━━━━━━━\u001b[0m \u001b[32m823.6/823.6 kB\u001b[0m \u001b[31m56.3 MB/s\u001b[0m eta \u001b[36m0:00:00\u001b[0m\n",
            "\u001b[2K     \u001b[90m━━━━━━━━━━━━━━━━━━━━━━━━━━━━━━━━━━━━━━━━\u001b[0m \u001b[32m14.1/14.1 MB\u001b[0m \u001b[31m79.6 MB/s\u001b[0m eta \u001b[36m0:00:00\u001b[0m\n",
            "\u001b[2K     \u001b[90m━━━━━━━━━━━━━━━━━━━━━━━━━━━━━━━━━━━━━━━━\u001b[0m \u001b[32m731.7/731.7 MB\u001b[0m \u001b[31m2.5 MB/s\u001b[0m eta \u001b[36m0:00:00\u001b[0m\n",
            "\u001b[2K     \u001b[90m━━━━━━━━━━━━━━━━━━━━━━━━━━━━━━━━━━━━━━━━\u001b[0m \u001b[32m410.6/410.6 MB\u001b[0m \u001b[31m3.8 MB/s\u001b[0m eta \u001b[36m0:00:00\u001b[0m\n",
            "\u001b[2K     \u001b[90m━━━━━━━━━━━━━━━━━━━━━━━━━━━━━━━━━━━━━━━━\u001b[0m \u001b[32m121.6/121.6 MB\u001b[0m \u001b[31m10.5 MB/s\u001b[0m eta \u001b[36m0:00:00\u001b[0m\n",
            "\u001b[2K     \u001b[90m━━━━━━━━━━━━━━━━━━━━━━━━━━━━━━━━━━━━━━━━\u001b[0m \u001b[32m56.5/56.5 MB\u001b[0m \u001b[31m12.5 MB/s\u001b[0m eta \u001b[36m0:00:00\u001b[0m\n",
            "\u001b[2K     \u001b[90m━━━━━━━━━━━━━━━━━━━━━━━━━━━━━━━━━━━━━━━━\u001b[0m \u001b[32m124.2/124.2 MB\u001b[0m \u001b[31m8.1 MB/s\u001b[0m eta \u001b[36m0:00:00\u001b[0m\n",
            "\u001b[2K     \u001b[90m━━━━━━━━━━━━━━━━━━━━━━━━━━━━━━━━━━━━━━━━\u001b[0m \u001b[32m196.0/196.0 MB\u001b[0m \u001b[31m6.0 MB/s\u001b[0m eta \u001b[36m0:00:00\u001b[0m\n",
            "\u001b[2K     \u001b[90m━━━━━━━━━━━━━━━━━━━━━━━━━━━━━━━━━━━━━━━━\u001b[0m \u001b[32m209.8/209.8 MB\u001b[0m \u001b[31m5.2 MB/s\u001b[0m eta \u001b[36m0:00:00\u001b[0m\n",
            "\u001b[2K     \u001b[90m━━━━━━━━━━━━━━━━━━━━━━━━━━━━━━━━━━━━━━━━\u001b[0m \u001b[32m99.1/99.1 kB\u001b[0m \u001b[31m13.0 MB/s\u001b[0m eta \u001b[36m0:00:00\u001b[0m\n",
            "\u001b[2K     \u001b[90m━━━━━━━━━━━━━━━━━━━━━━━━━━━━━━━━━━━━━━━━\u001b[0m \u001b[32m89.2/89.2 MB\u001b[0m \u001b[31m9.2 MB/s\u001b[0m eta \u001b[36m0:00:00\u001b[0m\n",
            "\u001b[2K     \u001b[90m━━━━━━━━━━━━━━━━━━━━━━━━━━━━━━━━━━━━━━━━\u001b[0m \u001b[32m20.5/20.5 MB\u001b[0m \u001b[31m98.7 MB/s\u001b[0m eta \u001b[36m0:00:00\u001b[0m\n",
            "\u001b[2K     \u001b[90m━━━━━━━━━━━━━━━━━━━━━━━━━━━━━━━━━━━━━━━━\u001b[0m \u001b[32m502.5/502.5 kB\u001b[0m \u001b[31m48.6 MB/s\u001b[0m eta \u001b[36m0:00:00\u001b[0m\n",
            "\u001b[2K     \u001b[90m━━━━━━━━━━━━━━━━━━━━━━━━━━━━━━━━━━━━━━━━\u001b[0m \u001b[32m341.8/341.8 kB\u001b[0m \u001b[31m37.8 MB/s\u001b[0m eta \u001b[36m0:00:00\u001b[0m\n",
            "\u001b[2K     \u001b[90m━━━━━━━━━━━━━━━━━━━━━━━━━━━━━━━━━━━━━━━━\u001b[0m \u001b[32m536.2/536.2 kB\u001b[0m \u001b[31m58.5 MB/s\u001b[0m eta \u001b[36m0:00:00\u001b[0m\n",
            "\u001b[?25h\u001b[31mERROR: pip's dependency resolver does not currently take into account all the packages that are installed. This behaviour is the source of the following dependency conflicts.\n",
            "ipython 7.34.0 requires jedi>=0.16, which is not installed.\n",
            "lida 0.0.10 requires fastapi, which is not installed.\n",
            "lida 0.0.10 requires kaleido, which is not installed.\n",
            "lida 0.0.10 requires python-multipart, which is not installed.\n",
            "lida 0.0.10 requires uvicorn, which is not installed.\n",
            "llmx 0.0.15a0 requires cohere, which is not installed.\n",
            "llmx 0.0.15a0 requires openai, which is not installed.\n",
            "llmx 0.0.15a0 requires tiktoken, which is not installed.\n",
            "cupy-cuda11x 11.0.0 requires numpy<1.26,>=1.20, but you have numpy 1.26.2 which is incompatible.\n",
            "gcsfs 2023.6.0 requires fsspec==2023.6.0, but you have fsspec 2023.12.0 which is incompatible.\n",
            "google-colab 1.0.0 requires pandas==1.5.3, but you have pandas 2.1.3 which is incompatible.\n",
            "imageio 2.31.6 requires pillow<10.1.0,>=8.3.2, but you have pillow 10.1.0 which is incompatible.\n",
            "tensorflow-probability 0.22.0 requires typing-extensions<4.6.0, but you have typing-extensions 4.8.0 which is incompatible.\n",
            "torchaudio 2.1.0+cu118 requires torch==2.1.0, but you have torch 2.1.1 which is incompatible.\n",
            "torchdata 0.7.0 requires torch==2.1.0, but you have torch 2.1.1 which is incompatible.\n",
            "torchtext 0.16.0 requires torch==2.1.0, but you have torch 2.1.1 which is incompatible.\u001b[0m\u001b[31m\n",
            "\u001b[0m"
          ]
        }
      ]
    },
    {
      "cell_type": "markdown",
      "source": [
        "---"
      ],
      "metadata": {
        "id": "ULBtt71LnM89"
      }
    },
    {
      "cell_type": "markdown",
      "source": [
        "## 버전 확인"
      ],
      "metadata": {
        "id": "ttVSfnY0nIr9"
      }
    },
    {
      "cell_type": "code",
      "source": [
        "import torch\n",
        "import utils\n",
        "\n",
        "# 파이토치 버전 확인, cuda device properties 확인\n",
        "# print('torch %s %s' % (torch.__version__, torch.cuda.get_device_properties(0) if torch.cuda.is_available() else 'CPU'))\n",
        "\n",
        "display = utils.notebook_init()  # 버전 확인 및 detect이후 Image 출력을 위한 선언"
      ],
      "metadata": {
        "id": "shEdnUMgPpfl",
        "colab": {
          "base_uri": "https://localhost:8080/"
        },
        "outputId": "16ddbf06-af3b-4d37-f00d-905c5abbd4db"
      },
      "execution_count": null,
      "outputs": [
        {
          "output_type": "stream",
          "name": "stderr",
          "text": [
            "YOLOv5 🚀 v7.0-247-g3f02fde Python-3.10.12 torch-2.1.1+cu121 CUDA:0 (Tesla T4, 15102MiB)\n"
          ]
        },
        {
          "output_type": "stream",
          "name": "stdout",
          "text": [
            "Setup complete ✅ (2 CPUs, 12.7 GB RAM, 34.6/78.2 GB disk)\n"
          ]
        }
      ]
    },
    {
      "cell_type": "code",
      "source": [
        "import cv2\n",
        "\n",
        "#오픈cv 버전 확인\n",
        "\n",
        "print(cv2.__version__)"
      ],
      "metadata": {
        "id": "Sa0-GhmcbxTq",
        "colab": {
          "base_uri": "https://localhost:8080/"
        },
        "outputId": "8c73ea3b-975d-4d20-d868-a7a1f9ba28c8"
      },
      "execution_count": null,
      "outputs": [
        {
          "output_type": "stream",
          "name": "stdout",
          "text": [
            "4.8.1\n"
          ]
        }
      ]
    },
    {
      "cell_type": "markdown",
      "source": [
        "---"
      ],
      "metadata": {
        "id": "Teu18t6Ani0I"
      }
    },
    {
      "cell_type": "markdown",
      "source": [
        "## Data Set"
      ],
      "metadata": {
        "id": "7EIxPCF6njkR"
      }
    },
    {
      "cell_type": "code",
      "source": [
        "from glob import glob\n",
        "\n",
        "train_img_list = glob('/content/drive/MyDrive/머신러닝YOLO/dataset/train/images/*.jpg')\n",
        "valid_img_list = glob('/content/drive/MyDrive/머신러닝YOLO/dataset/valid/images/*.jpg')\n",
        "\n",
        "print(len(train_img_list))\n",
        "print(len(valid_img_list))"
      ],
      "metadata": {
        "id": "xToRgo2Eyua-",
        "colab": {
          "base_uri": "https://localhost:8080/"
        },
        "outputId": "a1d6e1b3-0aac-4664-b6bc-4f41bb82bc5e"
      },
      "execution_count": null,
      "outputs": [
        {
          "output_type": "stream",
          "name": "stdout",
          "text": [
            "1347\n",
            "251\n"
          ]
        }
      ]
    },
    {
      "cell_type": "code",
      "source": [
        "# 사이킷런을 활용한 데이터 나누기\n",
        "# from sklearn.model_selection import train_test_split\n",
        "# train_img_list, valid_img_list = train_test_split(img_list, test_size=0.2, random_state=2000)\n",
        "\n",
        "\n",
        "# train, valid, test로 이미지와 라벨을 분류한 경우\n",
        "# mul: 사용할 데이터 비율\n",
        "mul = 0.33 # 33% 사용하기\n",
        "\n",
        "train_img_list = train_img_list[:(int)(len(train_img_list) * mul)]\n",
        "valid_img_list = train_img_list[:(int)(len(valid_img_list) * mul)]\n",
        "\n",
        "print(len(train_img_list), len(valid_img_list))"
      ],
      "metadata": {
        "id": "_QylqZ5YzIV5",
        "colab": {
          "base_uri": "https://localhost:8080/"
        },
        "outputId": "96ec49f0-9701-4fac-bf75-79870029552f"
      },
      "execution_count": null,
      "outputs": [
        {
          "output_type": "stream",
          "name": "stdout",
          "text": [
            "444 82\n"
          ]
        }
      ]
    },
    {
      "cell_type": "code",
      "source": [
        "# 이미지 리스트 작성\n",
        "\n",
        "with open('/content/drive/MyDrive/머신러닝YOLO/train.txt', 'w') as f:\n",
        "    f.write('\\n'.join(train_img_list) + '\\n')\n",
        "with open('/content/drive/MyDrive/머신러닝YOLO/valid.txt', 'w') as f:\n",
        "    f.write('\\n'.join(valid_img_list) + '\\n')"
      ],
      "metadata": {
        "id": "l5PcCzFT3_Hx"
      },
      "execution_count": null,
      "outputs": []
    },
    {
      "cell_type": "code",
      "source": [
        "import yaml\n",
        "\n",
        "with open('/content/drive/MyDrive/머신러닝YOLO/data.yaml', 'r') as f:\n",
        "    data = yaml.full_load(f)\n",
        "    # 다음 구문도 활용 가능\n",
        "    # data = yaml.load(f, Loader = yaml.FullLoader)\n",
        "    # data = yaml.safe_load(f) # 파일을 신뢰할 수 없는 경우 유용\n",
        "\n",
        "print(data)\n",
        "\n",
        "data['train'] = '/content/drive/MyDrive/머신러닝YOLO/train.txt'\n",
        "data['val'] = '/content/drive/MyDrive/머신러닝YOLO/valid.txt'\n",
        "\n",
        "with open('/content/drive/MyDrive/머신러닝YOLO/data.yaml', 'w') as f:\n",
        "    yaml.dump(data, f)\n",
        "\n",
        "print(data)"
      ],
      "metadata": {
        "id": "4uFeJtnQzIg7",
        "colab": {
          "base_uri": "https://localhost:8080/"
        },
        "outputId": "4f0d7d07-52eb-48eb-d82a-0e9f6314e407"
      },
      "execution_count": null,
      "outputs": [
        {
          "output_type": "stream",
          "name": "stdout",
          "text": [
            "{'names': ['person', 'wheelchair'], 'nc': 2, 'train': '/content/drive/MyDrive/머신러닝YOLO/train.txt', 'val': '/content/drive/MyDrive/머신러닝YOLO/valid.txt'}\n",
            "{'names': ['person', 'wheelchair'], 'nc': 2, 'train': '/content/drive/MyDrive/머신러닝YOLO/train.txt', 'val': '/content/drive/MyDrive/머신러닝YOLO/valid.txt'}\n"
          ]
        }
      ]
    },
    {
      "cell_type": "markdown",
      "source": [
        "## 모델 학습 (Train)"
      ],
      "metadata": {
        "id": "EGzTSn4bk0D9"
      }
    },
    {
      "cell_type": "code",
      "source": [
        "# %cd /content/yolov5/\n",
        "\n",
        "!python train.py --data /content/drive/MyDrive/머신러닝YOLO/data.yaml \\\n",
        "                 --cfg /content/yolov5/models/yolov5s.yaml \\\n",
        "                 --weights yolov5s.pt \\\n",
        "                 --name trainResult \\\n",
        "                 --batch 64 \\\n",
        "                 --epochs 50"
      ],
      "metadata": {
        "id": "Y6BfW4n6zIi2",
        "colab": {
          "base_uri": "https://localhost:8080/"
        },
        "outputId": "2f5e425b-cb19-4b24-fd67-903012aa83d4"
      },
      "execution_count": null,
      "outputs": [
        {
          "output_type": "stream",
          "name": "stdout",
          "text": [
            "2023-12-03 11:45:41.221987: E tensorflow/compiler/xla/stream_executor/cuda/cuda_dnn.cc:9342] Unable to register cuDNN factory: Attempting to register factory for plugin cuDNN when one has already been registered\n",
            "2023-12-03 11:45:41.222050: E tensorflow/compiler/xla/stream_executor/cuda/cuda_fft.cc:609] Unable to register cuFFT factory: Attempting to register factory for plugin cuFFT when one has already been registered\n",
            "2023-12-03 11:45:41.222090: E tensorflow/compiler/xla/stream_executor/cuda/cuda_blas.cc:1518] Unable to register cuBLAS factory: Attempting to register factory for plugin cuBLAS when one has already been registered\n",
            "\u001b[34m\u001b[1mtrain: \u001b[0mweights=yolov5s.pt, cfg=/content/yolov5/models/yolov5s.yaml, data=/content/drive/MyDrive/머신러닝YOLO/data.yaml, hyp=data/hyps/hyp.scratch-low.yaml, epochs=50, batch_size=64, imgsz=640, rect=False, resume=False, nosave=False, noval=False, noautoanchor=False, noplots=False, evolve=None, bucket=, cache=None, image_weights=False, device=, multi_scale=False, single_cls=False, optimizer=SGD, sync_bn=False, workers=8, project=runs/train, name=trainResult, exist_ok=False, quad=False, cos_lr=False, label_smoothing=0.0, patience=100, freeze=[0], save_period=-1, seed=0, local_rank=-1, entity=None, upload_dataset=False, bbox_interval=-1, artifact_alias=latest\n",
            "\u001b[34m\u001b[1mgithub: \u001b[0mup to date with https://github.com/ultralytics/yolov5 ✅\n",
            "YOLOv5 🚀 v7.0-247-g3f02fde Python-3.10.12 torch-2.1.1+cu121 CUDA:0 (Tesla T4, 15102MiB)\n",
            "\n",
            "\u001b[34m\u001b[1mhyperparameters: \u001b[0mlr0=0.01, lrf=0.01, momentum=0.937, weight_decay=0.0005, warmup_epochs=3.0, warmup_momentum=0.8, warmup_bias_lr=0.1, box=0.05, cls=0.5, cls_pw=1.0, obj=1.0, obj_pw=1.0, iou_t=0.2, anchor_t=4.0, fl_gamma=0.0, hsv_h=0.015, hsv_s=0.7, hsv_v=0.4, degrees=0.0, translate=0.1, scale=0.5, shear=0.0, perspective=0.0, flipud=0.0, fliplr=0.5, mosaic=1.0, mixup=0.0, copy_paste=0.0\n",
            "\u001b[34m\u001b[1mComet: \u001b[0mrun 'pip install comet_ml' to automatically track and visualize YOLOv5 🚀 runs in Comet\n",
            "\u001b[34m\u001b[1mTensorBoard: \u001b[0mStart with 'tensorboard --logdir runs/train', view at http://localhost:6006/\n",
            "Downloading https://github.com/ultralytics/yolov5/releases/download/v7.0/yolov5s.pt to yolov5s.pt...\n",
            "100% 14.1M/14.1M [00:00<00:00, 271MB/s]\n",
            "\n",
            "Overriding model.yaml nc=80 with nc=2\n",
            "\n",
            "                 from  n    params  module                                  arguments                     \n",
            "  0                -1  1      3520  models.common.Conv                      [3, 32, 6, 2, 2]              \n",
            "  1                -1  1     18560  models.common.Conv                      [32, 64, 3, 2]                \n",
            "  2                -1  1     18816  models.common.C3                        [64, 64, 1]                   \n",
            "  3                -1  1     73984  models.common.Conv                      [64, 128, 3, 2]               \n",
            "  4                -1  2    115712  models.common.C3                        [128, 128, 2]                 \n",
            "  5                -1  1    295424  models.common.Conv                      [128, 256, 3, 2]              \n",
            "  6                -1  3    625152  models.common.C3                        [256, 256, 3]                 \n",
            "  7                -1  1   1180672  models.common.Conv                      [256, 512, 3, 2]              \n",
            "  8                -1  1   1182720  models.common.C3                        [512, 512, 1]                 \n",
            "  9                -1  1    656896  models.common.SPPF                      [512, 512, 5]                 \n",
            " 10                -1  1    131584  models.common.Conv                      [512, 256, 1, 1]              \n",
            " 11                -1  1         0  torch.nn.modules.upsampling.Upsample    [None, 2, 'nearest']          \n",
            " 12           [-1, 6]  1         0  models.common.Concat                    [1]                           \n",
            " 13                -1  1    361984  models.common.C3                        [512, 256, 1, False]          \n",
            " 14                -1  1     33024  models.common.Conv                      [256, 128, 1, 1]              \n",
            " 15                -1  1         0  torch.nn.modules.upsampling.Upsample    [None, 2, 'nearest']          \n",
            " 16           [-1, 4]  1         0  models.common.Concat                    [1]                           \n",
            " 17                -1  1     90880  models.common.C3                        [256, 128, 1, False]          \n",
            " 18                -1  1    147712  models.common.Conv                      [128, 128, 3, 2]              \n",
            " 19          [-1, 14]  1         0  models.common.Concat                    [1]                           \n",
            " 20                -1  1    296448  models.common.C3                        [256, 256, 1, False]          \n",
            " 21                -1  1    590336  models.common.Conv                      [256, 256, 3, 2]              \n",
            " 22          [-1, 10]  1         0  models.common.Concat                    [1]                           \n",
            " 23                -1  1   1182720  models.common.C3                        [512, 512, 1, False]          \n",
            " 24      [17, 20, 23]  1     18879  models.yolo.Detect                      [2, [[10, 13, 16, 30, 33, 23], [30, 61, 62, 45, 59, 119], [116, 90, 156, 198, 373, 326]], [128, 256, 512]]\n",
            "YOLOv5s summary: 214 layers, 7025023 parameters, 7025023 gradients, 16.0 GFLOPs\n",
            "\n",
            "Transferred 342/349 items from yolov5s.pt\n",
            "\u001b[34m\u001b[1mAMP: \u001b[0mchecks passed ✅\n",
            "\u001b[34m\u001b[1moptimizer:\u001b[0m SGD(lr=0.01) with parameter groups 57 weight(decay=0.0), 60 weight(decay=0.0005), 60 bias\n",
            "\u001b[34m\u001b[1malbumentations: \u001b[0mBlur(p=0.01, blur_limit=(3, 7)), MedianBlur(p=0.01, blur_limit=(3, 7)), ToGray(p=0.01), CLAHE(p=0.01, clip_limit=(1, 4.0), tile_grid_size=(8, 8))\n",
            "\u001b[34m\u001b[1mtrain: \u001b[0mScanning /content/drive/MyDrive/머신러닝YOLO/train... 444 images, 7 backgrounds, 0 corrupt: 100% 444/444 [04:11<00:00,  1.77it/s]\n",
            "\u001b[34m\u001b[1mtrain: \u001b[0mNew cache created: /content/drive/MyDrive/머신러닝YOLO/train.cache\n",
            "\u001b[34m\u001b[1mval: \u001b[0mScanning /content/drive/MyDrive/머신러닝YOLO/valid... 82 images, 0 backgrounds, 0 corrupt: 100% 82/82 [00:00<00:00, 143.45it/s]\n",
            "\u001b[34m\u001b[1mval: \u001b[0mNew cache created: /content/drive/MyDrive/머신러닝YOLO/valid.cache\n",
            "\n",
            "\u001b[34m\u001b[1mAutoAnchor: \u001b[0m5.57 anchors/target, 1.000 Best Possible Recall (BPR). Current anchors are a good fit to dataset ✅\n",
            "Plotting labels to runs/train/trainResult/labels.jpg... \n",
            "Image sizes 640 train, 640 val\n",
            "Using 2 dataloader workers\n",
            "Logging results to \u001b[1mruns/train/trainResult\u001b[0m\n",
            "Starting training for 50 epochs...\n",
            "\n",
            "      Epoch    GPU_mem   box_loss   obj_loss   cls_loss  Instances       Size\n",
            "       0/49      13.4G     0.1163    0.04093    0.03034        277        640: 100% 7/7 [00:13<00:00,  1.88s/it]\n",
            "                 Class     Images  Instances          P          R      mAP50   mAP50-95:   0% 0/1 [00:00<?, ?it/s]WARNING ⚠️ NMS time limit 4.600s exceeded\n",
            "                 Class     Images  Instances          P          R      mAP50   mAP50-95: 100% 1/1 [00:09<00:00,  9.00s/it]\n",
            "                   all         82        266    0.00161      0.102   0.000918   0.000229\n",
            "\n",
            "      Epoch    GPU_mem   box_loss   obj_loss   cls_loss  Instances       Size\n",
            "       1/49      14.3G    0.09707    0.04434    0.02721        270        640: 100% 7/7 [00:08<00:00,  1.26s/it]\n",
            "                 Class     Images  Instances          P          R      mAP50   mAP50-95: 100% 1/1 [00:05<00:00,  5.66s/it]\n",
            "                   all         82        266     0.0092      0.891     0.0293    0.00664\n",
            "\n",
            "      Epoch    GPU_mem   box_loss   obj_loss   cls_loss  Instances       Size\n",
            "       2/49      14.3G    0.07924    0.04777    0.02214        268        640: 100% 7/7 [00:10<00:00,  1.46s/it]\n",
            "                 Class     Images  Instances          P          R      mAP50   mAP50-95: 100% 1/1 [00:06<00:00,  6.01s/it]\n",
            "                   all         82        266     0.0178      0.279      0.019    0.00515\n",
            "\n",
            "      Epoch    GPU_mem   box_loss   obj_loss   cls_loss  Instances       Size\n",
            "       3/49      14.3G    0.07166    0.04313    0.01968        262        640: 100% 7/7 [00:12<00:00,  1.73s/it]\n",
            "                 Class     Images  Instances          P          R      mAP50   mAP50-95: 100% 1/1 [00:05<00:00,  5.72s/it]\n",
            "                   all         82        266      0.666      0.213      0.196     0.0496\n",
            "\n",
            "      Epoch    GPU_mem   box_loss   obj_loss   cls_loss  Instances       Size\n",
            "       4/49      14.3G    0.06658    0.03721    0.01809        246        640: 100% 7/7 [00:11<00:00,  1.61s/it]\n",
            "                 Class     Images  Instances          P          R      mAP50   mAP50-95: 100% 1/1 [00:04<00:00,  4.16s/it]\n",
            "                   all         82        266      0.549      0.225      0.249     0.0747\n",
            "\n",
            "      Epoch    GPU_mem   box_loss   obj_loss   cls_loss  Instances       Size\n",
            "       5/49      14.3G    0.06538     0.0323     0.0148        262        640: 100% 7/7 [00:12<00:00,  1.79s/it]\n",
            "                 Class     Images  Instances          P          R      mAP50   mAP50-95: 100% 1/1 [00:03<00:00,  3.61s/it]\n",
            "                   all         82        266      0.252      0.619      0.432      0.118\n",
            "\n",
            "      Epoch    GPU_mem   box_loss   obj_loss   cls_loss  Instances       Size\n",
            "       6/49      14.3G    0.06469     0.0327    0.01223        297        640: 100% 7/7 [00:14<00:00,  2.00s/it]\n",
            "                 Class     Images  Instances          P          R      mAP50   mAP50-95: 100% 1/1 [00:02<00:00,  2.87s/it]\n",
            "                   all         82        266      0.589      0.597      0.621      0.216\n",
            "\n",
            "      Epoch    GPU_mem   box_loss   obj_loss   cls_loss  Instances       Size\n",
            "       7/49      14.3G    0.06473    0.02911   0.009854        252        640: 100% 7/7 [00:13<00:00,  1.98s/it]\n",
            "                 Class     Images  Instances          P          R      mAP50   mAP50-95: 100% 1/1 [00:02<00:00,  2.46s/it]\n",
            "                   all         82        266      0.604      0.665      0.695      0.247\n",
            "\n",
            "      Epoch    GPU_mem   box_loss   obj_loss   cls_loss  Instances       Size\n",
            "       8/49      14.3G    0.06504     0.0289   0.009401        250        640: 100% 7/7 [00:13<00:00,  1.94s/it]\n",
            "                 Class     Images  Instances          P          R      mAP50   mAP50-95: 100% 1/1 [00:02<00:00,  2.09s/it]\n",
            "                   all         82        266      0.414      0.613      0.485      0.189\n",
            "\n",
            "      Epoch    GPU_mem   box_loss   obj_loss   cls_loss  Instances       Size\n",
            "       9/49      14.3G    0.06251    0.02723   0.008307        258        640: 100% 7/7 [00:13<00:00,  1.87s/it]\n",
            "                 Class     Images  Instances          P          R      mAP50   mAP50-95: 100% 1/1 [00:02<00:00,  2.15s/it]\n",
            "                   all         82        266      0.462      0.602      0.528      0.184\n",
            "\n",
            "      Epoch    GPU_mem   box_loss   obj_loss   cls_loss  Instances       Size\n",
            "      10/49      14.3G    0.06252    0.02614   0.007502        319        640: 100% 7/7 [00:15<00:00,  2.15s/it]\n",
            "                 Class     Images  Instances          P          R      mAP50   mAP50-95: 100% 1/1 [00:02<00:00,  2.05s/it]\n",
            "                   all         82        266       0.59      0.688      0.689      0.297\n",
            "\n",
            "      Epoch    GPU_mem   box_loss   obj_loss   cls_loss  Instances       Size\n",
            "      11/49      14.3G    0.05962    0.02483   0.007622        261        640: 100% 7/7 [00:12<00:00,  1.82s/it]\n",
            "                 Class     Images  Instances          P          R      mAP50   mAP50-95: 100% 1/1 [00:02<00:00,  2.81s/it]\n",
            "                   all         82        266      0.596      0.855      0.791      0.294\n",
            "\n",
            "      Epoch    GPU_mem   box_loss   obj_loss   cls_loss  Instances       Size\n",
            "      12/49      14.3G    0.05763    0.02526   0.007625        281        640: 100% 7/7 [00:13<00:00,  1.93s/it]\n",
            "                 Class     Images  Instances          P          R      mAP50   mAP50-95: 100% 1/1 [00:02<00:00,  2.38s/it]\n",
            "                   all         82        266      0.518      0.732      0.625      0.212\n",
            "\n",
            "      Epoch    GPU_mem   box_loss   obj_loss   cls_loss  Instances       Size\n",
            "      13/49      14.3G    0.05501    0.02421   0.006726        298        640: 100% 7/7 [00:13<00:00,  1.90s/it]\n",
            "                 Class     Images  Instances          P          R      mAP50   mAP50-95: 100% 1/1 [00:02<00:00,  2.33s/it]\n",
            "                   all         82        266      0.601      0.815      0.724      0.317\n",
            "\n",
            "      Epoch    GPU_mem   box_loss   obj_loss   cls_loss  Instances       Size\n",
            "      14/49      14.3G    0.05532    0.02431     0.0065        280        640: 100% 7/7 [00:14<00:00,  2.12s/it]\n",
            "                 Class     Images  Instances          P          R      mAP50   mAP50-95: 100% 1/1 [00:02<00:00,  2.27s/it]\n",
            "                   all         82        266      0.801      0.747      0.878      0.344\n",
            "\n",
            "      Epoch    GPU_mem   box_loss   obj_loss   cls_loss  Instances       Size\n",
            "      15/49      14.3G    0.05219    0.02386   0.006032        242        640: 100% 7/7 [00:11<00:00,  1.70s/it]\n",
            "                 Class     Images  Instances          P          R      mAP50   mAP50-95: 100% 1/1 [00:02<00:00,  2.68s/it]\n",
            "                   all         82        266      0.693      0.846      0.853      0.393\n",
            "\n",
            "      Epoch    GPU_mem   box_loss   obj_loss   cls_loss  Instances       Size\n",
            "      16/49      14.3G     0.0496    0.02204   0.006127        293        640: 100% 7/7 [00:14<00:00,  2.05s/it]\n",
            "                 Class     Images  Instances          P          R      mAP50   mAP50-95: 100% 1/1 [00:02<00:00,  2.40s/it]\n",
            "                   all         82        266      0.783      0.851      0.878      0.344\n",
            "\n",
            "      Epoch    GPU_mem   box_loss   obj_loss   cls_loss  Instances       Size\n",
            "      17/49      14.3G    0.04745    0.02051   0.005908        270        640: 100% 7/7 [00:13<00:00,  1.96s/it]\n",
            "                 Class     Images  Instances          P          R      mAP50   mAP50-95: 100% 1/1 [00:02<00:00,  2.43s/it]\n",
            "                   all         82        266      0.679       0.77      0.781      0.368\n",
            "\n",
            "      Epoch    GPU_mem   box_loss   obj_loss   cls_loss  Instances       Size\n",
            "      18/49      14.3G    0.04784    0.02261   0.005611        249        640: 100% 7/7 [00:14<00:00,  2.01s/it]\n",
            "                 Class     Images  Instances          P          R      mAP50   mAP50-95: 100% 1/1 [00:02<00:00,  2.28s/it]\n",
            "                   all         82        266      0.942      0.954      0.972      0.512\n",
            "\n",
            "      Epoch    GPU_mem   box_loss   obj_loss   cls_loss  Instances       Size\n",
            "      19/49      14.3G    0.04485    0.02131   0.005526        249        640: 100% 7/7 [00:13<00:00,  1.94s/it]\n",
            "                 Class     Images  Instances          P          R      mAP50   mAP50-95: 100% 1/1 [00:02<00:00,  2.16s/it]\n",
            "                   all         82        266      0.918      0.947      0.971      0.549\n",
            "\n",
            "      Epoch    GPU_mem   box_loss   obj_loss   cls_loss  Instances       Size\n",
            "      20/49      14.3G    0.04304    0.02096   0.005322        271        640: 100% 7/7 [00:13<00:00,  1.98s/it]\n",
            "                 Class     Images  Instances          P          R      mAP50   mAP50-95: 100% 1/1 [00:02<00:00,  2.10s/it]\n",
            "                   all         82        266      0.935       0.93      0.976      0.525\n",
            "\n",
            "      Epoch    GPU_mem   box_loss   obj_loss   cls_loss  Instances       Size\n",
            "      21/49      14.3G    0.04266    0.02103   0.005593        253        640: 100% 7/7 [00:14<00:00,  2.06s/it]\n",
            "                 Class     Images  Instances          P          R      mAP50   mAP50-95: 100% 1/1 [00:01<00:00,  1.97s/it]\n",
            "                   all         82        266        0.9      0.951      0.979      0.578\n",
            "\n",
            "      Epoch    GPU_mem   box_loss   obj_loss   cls_loss  Instances       Size\n",
            "      22/49      14.3G    0.04076    0.02161   0.005111        329        640: 100% 7/7 [00:13<00:00,  1.88s/it]\n",
            "                 Class     Images  Instances          P          R      mAP50   mAP50-95: 100% 1/1 [00:02<00:00,  2.76s/it]\n",
            "                   all         82        266       0.94      0.965      0.986      0.612\n",
            "\n",
            "      Epoch    GPU_mem   box_loss   obj_loss   cls_loss  Instances       Size\n",
            "      23/49      14.3G    0.04082    0.02124   0.005155        291        640: 100% 7/7 [00:15<00:00,  2.18s/it]\n",
            "                 Class     Images  Instances          P          R      mAP50   mAP50-95: 100% 1/1 [00:01<00:00,  1.90s/it]\n",
            "                   all         82        266      0.921      0.964      0.985      0.607\n",
            "\n",
            "      Epoch    GPU_mem   box_loss   obj_loss   cls_loss  Instances       Size\n",
            "      24/49      14.3G    0.03973    0.02064   0.004829        251        640: 100% 7/7 [00:12<00:00,  1.81s/it]\n",
            "                 Class     Images  Instances          P          R      mAP50   mAP50-95: 100% 1/1 [00:02<00:00,  2.67s/it]\n",
            "                   all         82        266      0.954      0.961      0.983      0.575\n",
            "\n",
            "      Epoch    GPU_mem   box_loss   obj_loss   cls_loss  Instances       Size\n",
            "      25/49      14.3G    0.03951    0.02082   0.004582        326        640: 100% 7/7 [00:15<00:00,  2.24s/it]\n",
            "                 Class     Images  Instances          P          R      mAP50   mAP50-95: 100% 1/1 [00:02<00:00,  2.01s/it]\n",
            "                   all         82        266      0.924      0.967      0.976        0.6\n",
            "\n",
            "      Epoch    GPU_mem   box_loss   obj_loss   cls_loss  Instances       Size\n",
            "      26/49      14.3G    0.03879    0.02034   0.004496        292        640: 100% 7/7 [00:12<00:00,  1.76s/it]\n",
            "                 Class     Images  Instances          P          R      mAP50   mAP50-95: 100% 1/1 [00:02<00:00,  2.58s/it]\n",
            "                   all         82        266      0.968      0.979       0.99        0.6\n",
            "\n",
            "      Epoch    GPU_mem   box_loss   obj_loss   cls_loss  Instances       Size\n",
            "      27/49      14.3G    0.03772    0.01996   0.004212        248        640: 100% 7/7 [00:15<00:00,  2.23s/it]\n",
            "                 Class     Images  Instances          P          R      mAP50   mAP50-95: 100% 1/1 [00:01<00:00,  1.97s/it]\n",
            "                   all         82        266      0.968       0.95      0.991      0.644\n",
            "\n",
            "      Epoch    GPU_mem   box_loss   obj_loss   cls_loss  Instances       Size\n",
            "      28/49      14.3G    0.03776    0.01932   0.004271        280        640: 100% 7/7 [00:12<00:00,  1.78s/it]\n",
            "                 Class     Images  Instances          P          R      mAP50   mAP50-95: 100% 1/1 [00:02<00:00,  2.33s/it]\n",
            "                   all         82        266      0.976       0.98      0.991       0.62\n",
            "      29/49      14.3G    0.03729    0.02034   0.003906        338        640: 100% 7/7 [00:15<00:00,  2.21s/it]\n",
            "                 Class     Images  Instances          P          R      mAP50   mAP50-95: 100% 1/1 [00:01<00:00,  1.74s/it]\n",
            "                   all         82        266      0.982      0.967      0.989      0.656\n",
            "\n",
            "      Epoch    GPU_mem   box_loss   obj_loss   cls_loss  Instances       Size\n",
            "      30/49      14.3G    0.03574    0.01871   0.004201        258        640: 100% 7/7 [00:11<00:00,  1.67s/it]\n",
            "                 Class     Images  Instances          P          R      mAP50   mAP50-95: 100% 1/1 [00:02<00:00,  2.34s/it]\n",
            "                   all         82        266       0.97      0.982      0.992      0.666\n",
            "\n",
            "      Epoch    GPU_mem   box_loss   obj_loss   cls_loss  Instances       Size\n",
            "      31/49      14.3G    0.03512    0.01885   0.004143        267        640: 100% 7/7 [00:15<00:00,  2.21s/it]\n",
            "                 Class     Images  Instances          P          R      mAP50   mAP50-95: 100% 1/1 [00:02<00:00,  2.11s/it]\n",
            "                   all         82        266      0.967      0.972       0.99      0.688\n",
            "\n",
            "      Epoch    GPU_mem   box_loss   obj_loss   cls_loss  Instances       Size\n",
            "      32/49      14.3G     0.0352    0.01869    0.00425        289        640: 100% 7/7 [00:11<00:00,  1.71s/it]\n",
            "                 Class     Images  Instances          P          R      mAP50   mAP50-95: 100% 1/1 [00:02<00:00,  2.90s/it]\n",
            "                   all         82        266      0.985      0.985      0.992      0.695\n",
            "\n",
            "      Epoch    GPU_mem   box_loss   obj_loss   cls_loss  Instances       Size\n",
            "      33/49      14.3G    0.03446     0.0188   0.004159        265        640: 100% 7/7 [00:14<00:00,  2.13s/it]\n",
            "                 Class     Images  Instances          P          R      mAP50   mAP50-95: 100% 1/1 [00:02<00:00,  2.17s/it]\n",
            "                   all         82        266       0.97       0.99      0.991       0.69\n",
            "\n",
            "      Epoch    GPU_mem   box_loss   obj_loss   cls_loss  Instances       Size\n",
            "      34/49      14.3G    0.03518    0.01907   0.004242        296        640: 100% 7/7 [00:13<00:00,  1.88s/it]\n",
            "                 Class     Images  Instances          P          R      mAP50   mAP50-95: 100% 1/1 [00:02<00:00,  2.73s/it]\n",
            "                   all         82        266      0.968      0.989      0.992      0.697\n",
            "\n",
            "      Epoch    GPU_mem   box_loss   obj_loss   cls_loss  Instances       Size\n",
            "      35/49      14.3G    0.03348    0.01816   0.003614        279        640: 100% 7/7 [00:15<00:00,  2.25s/it]\n",
            "                 Class     Images  Instances          P          R      mAP50   mAP50-95: 100% 1/1 [00:01<00:00,  1.97s/it]\n",
            "                   all         82        266      0.983      0.989      0.994        0.7\n",
            "\n",
            "      Epoch    GPU_mem   box_loss   obj_loss   cls_loss  Instances       Size\n",
            "      36/49      14.3G    0.03349    0.01858   0.003794        286        640: 100% 7/7 [00:12<00:00,  1.81s/it]\n",
            "                 Class     Images  Instances          P          R      mAP50   mAP50-95: 100% 1/1 [00:02<00:00,  2.31s/it]\n",
            "                   all         82        266      0.977      0.988      0.994       0.69\n",
            "\n",
            "      Epoch    GPU_mem   box_loss   obj_loss   cls_loss  Instances       Size\n",
            "      37/49      14.3G    0.03282    0.01831   0.003681        309        640: 100% 7/7 [00:15<00:00,  2.22s/it]\n",
            "                 Class     Images  Instances          P          R      mAP50   mAP50-95: 100% 1/1 [00:02<00:00,  2.03s/it]\n",
            "                   all         82        266      0.973      0.985      0.993       0.71\n",
            "\n",
            "      Epoch    GPU_mem   box_loss   obj_loss   cls_loss  Instances       Size\n",
            "      38/49      14.3G    0.03208     0.0192    0.00359        291        640: 100% 7/7 [00:12<00:00,  1.78s/it]\n",
            "                 Class     Images  Instances          P          R      mAP50   mAP50-95: 100% 1/1 [00:02<00:00,  2.37s/it]\n",
            "                   all         82        266      0.976      0.993      0.993      0.717\n",
            "\n",
            "      Epoch    GPU_mem   box_loss   obj_loss   cls_loss  Instances       Size\n",
            "      39/49      14.3G     0.0315    0.01794    0.00366        269        640: 100% 7/7 [00:15<00:00,  2.22s/it]\n",
            "                 Class     Images  Instances          P          R      mAP50   mAP50-95: 100% 1/1 [00:01<00:00,  1.62s/it]\n",
            "                   all         82        266       0.98      0.972      0.991      0.712\n",
            "\n",
            "      Epoch    GPU_mem   box_loss   obj_loss   cls_loss  Instances       Size\n",
            "      40/49      14.3G     0.0317    0.01729   0.003529        276        640: 100% 7/7 [00:12<00:00,  1.82s/it]\n",
            "                 Class     Images  Instances          P          R      mAP50   mAP50-95: 100% 1/1 [00:02<00:00,  2.01s/it]\n",
            "                   all         82        266      0.973      0.988      0.993      0.732\n",
            "\n",
            "      Epoch    GPU_mem   box_loss   obj_loss   cls_loss  Instances       Size\n",
            "      41/49      14.3G    0.03096    0.01735   0.003464        240        640: 100% 7/7 [00:15<00:00,  2.23s/it]\n",
            "                 Class     Images  Instances          P          R      mAP50   mAP50-95: 100% 1/1 [00:01<00:00,  1.84s/it]\n",
            "                   all         82        266      0.978       0.99      0.994      0.745\n",
            "\n",
            "      Epoch    GPU_mem   box_loss   obj_loss   cls_loss  Instances       Size\n",
            "      42/49      14.3G    0.03135    0.01756   0.003566        245        640: 100% 7/7 [00:12<00:00,  1.84s/it]\n",
            "                 Class     Images  Instances          P          R      mAP50   mAP50-95: 100% 1/1 [00:02<00:00,  2.00s/it]\n",
            "                   all         82        266      0.982      0.991      0.994       0.73\n",
            "\n",
            "      Epoch    GPU_mem   box_loss   obj_loss   cls_loss  Instances       Size\n",
            "      43/49      14.3G    0.03016    0.01756   0.003758        257        640: 100% 7/7 [00:15<00:00,  2.26s/it]\n",
            "                 Class     Images  Instances          P          R      mAP50   mAP50-95: 100% 1/1 [00:01<00:00,  1.54s/it]\n",
            "                   all         82        266       0.98      0.993      0.994      0.753\n",
            "\n",
            "      Epoch    GPU_mem   box_loss   obj_loss   cls_loss  Instances       Size\n",
            "      44/49      14.3G    0.02977    0.01763   0.003245        254        640: 100% 7/7 [00:12<00:00,  1.83s/it]\n",
            "                 Class     Images  Instances          P          R      mAP50   mAP50-95: 100% 1/1 [00:01<00:00,  1.97s/it]\n",
            "                   all         82        266      0.978       0.99      0.993      0.761\n",
            "\n",
            "      Epoch    GPU_mem   box_loss   obj_loss   cls_loss  Instances       Size\n",
            "      45/49      14.3G    0.02966    0.01697   0.003609        262        640: 100% 7/7 [00:15<00:00,  2.26s/it]\n",
            "                 Class     Images  Instances          P          R      mAP50   mAP50-95: 100% 1/1 [00:01<00:00,  1.72s/it]\n",
            "                   all         82        266      0.984      0.987      0.993      0.767\n",
            "\n",
            "      Epoch    GPU_mem   box_loss   obj_loss   cls_loss  Instances       Size\n",
            "      46/49      14.3G    0.03002    0.01777   0.003745        243        640: 100% 7/7 [00:13<00:00,  1.98s/it]\n",
            "                 Class     Images  Instances          P          R      mAP50   mAP50-95: 100% 1/1 [00:01<00:00,  1.83s/it]\n",
            "                   all         82        266      0.979      0.988      0.994      0.762\n",
            "\n",
            "      Epoch    GPU_mem   box_loss   obj_loss   cls_loss  Instances       Size\n",
            "      47/49      14.3G    0.02905    0.01753    0.00357        257        640: 100% 7/7 [00:15<00:00,  2.21s/it]\n",
            "                 Class     Images  Instances          P          R      mAP50   mAP50-95: 100% 1/1 [00:01<00:00,  1.94s/it]\n",
            "                   all         82        266      0.985      0.985      0.994      0.766\n",
            "\n",
            "      Epoch    GPU_mem   box_loss   obj_loss   cls_loss  Instances       Size\n",
            "      48/49      14.3G     0.0292    0.01771   0.003435        309        640: 100% 7/7 [00:13<00:00,  1.87s/it]\n",
            "                 Class     Images  Instances          P          R      mAP50   mAP50-95: 100% 1/1 [00:02<00:00,  2.12s/it]\n",
            "                   all         82        266      0.982      0.992      0.994      0.773\n",
            "\n",
            "      Epoch    GPU_mem   box_loss   obj_loss   cls_loss  Instances       Size\n",
            "      49/49      14.3G    0.02923    0.01793   0.003077        281        640: 100% 7/7 [00:15<00:00,  2.26s/it]\n",
            "                 Class     Images  Instances          P          R      mAP50   mAP50-95: 100% 1/1 [00:01<00:00,  1.79s/it]\n",
            "                   all         82        266      0.988      0.988      0.994      0.775\n",
            "\n",
            "50 epochs completed in 0.243 hours.\n",
            "Optimizer stripped from runs/train/trainResult/weights/last.pt, 14.4MB\n",
            "Optimizer stripped from runs/train/trainResult/weights/best.pt, 14.4MB\n",
            "\n",
            "Validating runs/train/trainResult/weights/best.pt...\n",
            "Fusing layers... \n",
            "YOLOv5s summary: 157 layers, 7015519 parameters, 0 gradients, 15.8 GFLOPs\n",
            "                 Class     Images  Instances          P          R      mAP50   mAP50-95: 100% 1/1 [00:01<00:00,  1.69s/it]\n",
            "                   all         82        266      0.988      0.988      0.994      0.776\n",
            "                person         82        195      0.979      0.977      0.994      0.768\n",
            "            wheelchair         82         71      0.996          1      0.995      0.784\n",
            "Results saved to \u001b[1mruns/train/trainResult\u001b[0m\n"
          ]
        }
      ]
    },
    {
      "cell_type": "code",
      "source": [
        "# 드라이브저장\n",
        "\n",
        "!cp -r /content/yolov5/runs/train/trainResult /content/drive/MyDrive/머신러닝YOLO/trainResult"
      ],
      "metadata": {
        "id": "k0WpjNDMjEoy"
      },
      "execution_count": null,
      "outputs": []
    },
    {
      "cell_type": "markdown",
      "source": [
        "---"
      ],
      "metadata": {
        "id": "nQSzkPeOkbxg"
      }
    },
    {
      "cell_type": "markdown",
      "source": [
        "## 모델 테스트 (Detect)"
      ],
      "metadata": {
        "id": "U3JNGtWdkOv-"
      }
    },
    {
      "cell_type": "code",
      "source": [
        "# %cd /content/yolov5/\n",
        "\n",
        "!python detect.py --source /content/drive/MyDrive/머신러닝YOLO/dataset/test/images/ \\\n",
        "                  --weights /content/drive/MyDrive/머신러닝YOLO/result/weights/best.pt \\\n",
        "                  --name detectResult\n",
        "\n",
        "resultImg = glob('/content/yolov5/runs/detect/detectResult/*.jpg')[0]\n",
        "display.Image(filename=resultImg, width=600)"
      ],
      "metadata": {
        "id": "suZ4es5xfHAV",
        "colab": {
          "base_uri": "https://localhost:8080/",
          "height": 1000
        },
        "outputId": "e2cacf64-3425-4b85-fba5-0b1bd07c45e6"
      },
      "execution_count": null,
      "outputs": [
        {
          "output_type": "stream",
          "name": "stdout",
          "text": [
            "\u001b[34m\u001b[1mdetect: \u001b[0mweights=['/content/drive/MyDrive/머신러닝YOLO/result/weights/best.pt'], source=/content/drive/MyDrive/머신러닝YOLO/dataset/test/images/, data=data/coco128.yaml, imgsz=[640, 640], conf_thres=0.25, iou_thres=0.45, max_det=1000, device=, view_img=False, save_txt=False, save_csv=False, save_conf=False, save_crop=False, nosave=False, classes=None, agnostic_nms=False, augment=False, visualize=False, update=False, project=runs/detect, name=detectResult, exist_ok=False, line_thickness=3, hide_labels=False, hide_conf=False, half=False, dnn=False, vid_stride=1\n",
            "YOLOv5 🚀 v7.0-247-g3f02fde Python-3.10.12 torch-2.1.1+cu121 CUDA:0 (Tesla T4, 15102MiB)\n",
            "\n",
            "Fusing layers... \n",
            "YOLOv5s summary: 157 layers, 7015519 parameters, 0 gradients, 15.8 GFLOPs\n",
            "image 1/150 /content/drive/MyDrive/머신러닝YOLO/dataset/test/images/GH010096_frame7920_jpg.rf.81f677306ae14a0042fead009af398e8.jpg: 640x640 1 person, 12.7ms\n",
            "image 2/150 /content/drive/MyDrive/머신러닝YOLO/dataset/test/images/GH010096_frame7950_jpg.rf.ecc5f176d2fbf2d141ac4ad45fd65db3.jpg: 640x640 1 person, 11.6ms\n",
            "image 3/150 /content/drive/MyDrive/머신러닝YOLO/dataset/test/images/GH010097_frame1020_jpg.rf.5b6cb2e5ec5e4a907f708b9111c98abc.jpg: 640x640 3 persons, 11.6ms\n",
            "image 4/150 /content/drive/MyDrive/머신러닝YOLO/dataset/test/images/GH010097_frame1050_jpg.rf.7dd9eee80fa75927dd2715789fc7ed37.jpg: 640x640 3 persons, 11.5ms\n",
            "image 5/150 /content/drive/MyDrive/머신러닝YOLO/dataset/test/images/GH010097_frame1080_jpg.rf.1d1e9efe3dd988d51ba654efd89fc279.jpg: 640x640 2 persons, 11.6ms\n",
            "image 6/150 /content/drive/MyDrive/머신러닝YOLO/dataset/test/images/GH010097_frame1110_jpg.rf.aea8caf08c8234b57a3e1ba314a20f34.jpg: 640x640 1 person, 11.6ms\n",
            "image 7/150 /content/drive/MyDrive/머신러닝YOLO/dataset/test/images/GH010097_frame480_jpg.rf.8a6ea64db948b268e01ff14272f6ff36.jpg: 640x640 2 persons, 11.5ms\n",
            "image 8/150 /content/drive/MyDrive/머신러닝YOLO/dataset/test/images/GH010097_frame540_jpg.rf.b7a5997ce635305a2e4ea4aa7ff7620e.jpg: 640x640 3 persons, 11.5ms\n",
            "image 9/150 /content/drive/MyDrive/머신러닝YOLO/dataset/test/images/GH010097_frame570_jpg.rf.b8cc9b3761fc7312fa126557e97ecf22.jpg: 640x640 2 persons, 11.5ms\n",
            "image 10/150 /content/drive/MyDrive/머신러닝YOLO/dataset/test/images/GH010097_frame600_jpg.rf.5a26382d51a1fd641096a79819438684.jpg: 640x640 2 persons, 11.5ms\n",
            "image 11/150 /content/drive/MyDrive/머신러닝YOLO/dataset/test/images/GH010097_frame720_jpg.rf.91feff5cbfff9d8d3a6ff35f1781e7bc.jpg: 640x640 1 person, 11.5ms\n",
            "image 12/150 /content/drive/MyDrive/머신러닝YOLO/dataset/test/images/GH010097_frame750_jpg.rf.27397304bb29c1dff6f609630500339d.jpg: 640x640 1 person, 11.5ms\n",
            "image 13/150 /content/drive/MyDrive/머신러닝YOLO/dataset/test/images/GH010097_frame780_jpg.rf.421fdc43e9942bdcece3a10397b49b1f.jpg: 640x640 1 person, 11.5ms\n",
            "image 14/150 /content/drive/MyDrive/머신러닝YOLO/dataset/test/images/GH010097_frame840_jpg.rf.097d53312bcd911ae964f0d442ac4cb5.jpg: 640x640 (no detections), 11.5ms\n",
            "image 15/150 /content/drive/MyDrive/머신러닝YOLO/dataset/test/images/GH010097_frame870_jpg.rf.dc681267ec983b92004cdb6c96ee91ff.jpg: 640x640 1 person, 11.5ms\n",
            "image 16/150 /content/drive/MyDrive/머신러닝YOLO/dataset/test/images/GH010097_frame900_jpg.rf.fbcb2b7999e90b58262a2931ca143d8c.jpg: 640x640 1 person, 11.5ms\n",
            "image 17/150 /content/drive/MyDrive/머신러닝YOLO/dataset/test/images/GH010097_frame930_jpg.rf.b05600e973c3c06578623ae1463637c6.jpg: 640x640 2 persons, 11.5ms\n",
            "image 18/150 /content/drive/MyDrive/머신러닝YOLO/dataset/test/images/GH010097_frame960_jpg.rf.70825961eeb31c7f40a267bcc4d9bfd6.jpg: 640x640 2 persons, 11.5ms\n",
            "image 19/150 /content/drive/MyDrive/머신러닝YOLO/dataset/test/images/GH010097_frame990_jpg.rf.f0b67e538410072511921fd5d7574649.jpg: 640x640 2 persons, 10.2ms\n",
            "image 20/150 /content/drive/MyDrive/머신러닝YOLO/dataset/test/images/GH010098_frame1050_jpg.rf.b189dbd2db57814b14b13f4cc26cc3d9.jpg: 640x640 2 persons, 1 wheelchair, 10.2ms\n",
            "image 21/150 /content/drive/MyDrive/머신러닝YOLO/dataset/test/images/GH010098_frame1110_jpg.rf.2b0f7eba0b19770d45f3666a4b7068a0.jpg: 640x640 2 persons, 1 wheelchair, 10.2ms\n",
            "image 22/150 /content/drive/MyDrive/머신러닝YOLO/dataset/test/images/GH010098_frame1140_jpg.rf.e1c9458e8cbdefbc900536a8bedeb85e.jpg: 640x640 2 persons, 1 wheelchair, 10.2ms\n",
            "image 23/150 /content/drive/MyDrive/머신러닝YOLO/dataset/test/images/GH010098_frame1170_jpg.rf.21dec9ddb63733f47ae0b8a8983f66f5.jpg: 640x640 1 person, 1 wheelchair, 10.2ms\n",
            "image 24/150 /content/drive/MyDrive/머신러닝YOLO/dataset/test/images/GH010098_frame1200_jpg.rf.bba18d5809443128bc2981ca8abf111b.jpg: 640x640 2 persons, 1 wheelchair, 10.2ms\n",
            "image 25/150 /content/drive/MyDrive/머신러닝YOLO/dataset/test/images/GH010098_frame1230_jpg.rf.307a4f370bb90ab0754b15bc58117df5.jpg: 640x640 2 persons, 1 wheelchair, 10.2ms\n",
            "image 26/150 /content/drive/MyDrive/머신러닝YOLO/dataset/test/images/GH010098_frame1260_jpg.rf.f060db09742866c540cb78a2d8a3f207.jpg: 640x640 2 persons, 1 wheelchair, 10.2ms\n",
            "image 27/150 /content/drive/MyDrive/머신러닝YOLO/dataset/test/images/GH010098_frame1290_jpg.rf.ce927be6f805d6a2497f57933d65f345.jpg: 640x640 1 person, 1 wheelchair, 9.5ms\n",
            "image 28/150 /content/drive/MyDrive/머신러닝YOLO/dataset/test/images/GH010098_frame1320_jpg.rf.d2f989771a77c825c2ffc61725050960.jpg: 640x640 2 persons, 1 wheelchair, 9.5ms\n",
            "image 29/150 /content/drive/MyDrive/머신러닝YOLO/dataset/test/images/GH010098_frame1350_jpg.rf.7a1fcd6c1db191b13194f8e3473cf825.jpg: 640x640 1 person, 1 wheelchair, 9.5ms\n",
            "image 30/150 /content/drive/MyDrive/머신러닝YOLO/dataset/test/images/GH010098_frame1380_jpg.rf.d8be9a4095b90e17d8800f2720d43aa9.jpg: 640x640 1 person, 1 wheelchair, 9.5ms\n",
            "image 31/150 /content/drive/MyDrive/머신러닝YOLO/dataset/test/images/GH010098_frame1410_jpg.rf.cff0ee31a565c924fc71f2806f756c2c.jpg: 640x640 2 persons, 1 wheelchair, 9.6ms\n",
            "image 32/150 /content/drive/MyDrive/머신러닝YOLO/dataset/test/images/GH010098_frame1440_jpg.rf.7335338bc6391286b78f4b9ef9952115.jpg: 640x640 4 persons, 2 wheelchairs, 9.5ms\n",
            "image 33/150 /content/drive/MyDrive/머신러닝YOLO/dataset/test/images/GH010098_frame1470_jpg.rf.4b43c6638c719062cf8b79ed8cb168db.jpg: 640x640 2 persons, 2 wheelchairs, 9.5ms\n",
            "image 34/150 /content/drive/MyDrive/머신러닝YOLO/dataset/test/images/GH010098_frame1500_jpg.rf.be0f6dd277ee079116888f6f38a82382.jpg: 640x640 2 persons, 2 wheelchairs, 9.6ms\n",
            "image 35/150 /content/drive/MyDrive/머신러닝YOLO/dataset/test/images/GH010098_frame1530_jpg.rf.f617ea55c09ed6e958d416023a0d1170.jpg: 640x640 2 persons, 2 wheelchairs, 9.6ms\n",
            "image 36/150 /content/drive/MyDrive/머신러닝YOLO/dataset/test/images/GH010098_frame1560_jpg.rf.5cdd20bf74813e5bd1c2d984c0d8a172.jpg: 640x640 2 persons, 1 wheelchair, 9.6ms\n",
            "image 37/150 /content/drive/MyDrive/머신러닝YOLO/dataset/test/images/GH010098_frame1620_jpg.rf.3964c2de57bdfa31276ef7e94ad7f26a.jpg: 640x640 2 persons, 1 wheelchair, 9.5ms\n",
            "image 38/150 /content/drive/MyDrive/머신러닝YOLO/dataset/test/images/GH010098_frame1650_jpg.rf.ad1f1615f8cbb0ccfc0cd10c22a03c22.jpg: 640x640 2 persons, 2 wheelchairs, 9.5ms\n",
            "image 39/150 /content/drive/MyDrive/머신러닝YOLO/dataset/test/images/GH010098_frame1710_jpg.rf.e8f84d58d4d79313211f9904a7408e47.jpg: 640x640 2 persons, 2 wheelchairs, 9.5ms\n",
            "image 40/150 /content/drive/MyDrive/머신러닝YOLO/dataset/test/images/GH010098_frame1740_jpg.rf.8f3de65ad98bbe300f32c3b9e28b3d3a.jpg: 640x640 2 persons, 2 wheelchairs, 9.5ms\n",
            "image 41/150 /content/drive/MyDrive/머신러닝YOLO/dataset/test/images/GH010098_frame1770_jpg.rf.e2687e03b03e908b9df2cc49e172e02e.jpg: 640x640 2 persons, 3 wheelchairs, 9.6ms\n",
            "image 42/150 /content/drive/MyDrive/머신러닝YOLO/dataset/test/images/GH010098_frame1800_jpg.rf.027550e2256e76faa73aac57f3d6077c.jpg: 640x640 2 persons, 3 wheelchairs, 9.5ms\n",
            "image 43/150 /content/drive/MyDrive/머신러닝YOLO/dataset/test/images/GH010098_frame1830_jpg.rf.46fe54633a1684a46399a47f689b7591.jpg: 640x640 2 persons, 2 wheelchairs, 9.5ms\n",
            "image 44/150 /content/drive/MyDrive/머신러닝YOLO/dataset/test/images/GH010098_frame1860_jpg.rf.798b5f68424cff39abf75e51987da04a.jpg: 640x640 2 persons, 3 wheelchairs, 9.5ms\n",
            "image 45/150 /content/drive/MyDrive/머신러닝YOLO/dataset/test/images/GH010098_frame1890_jpg.rf.b8d1c7f12e40d0082ea133771ad3cac0.jpg: 640x640 2 persons, 1 wheelchair, 9.6ms\n",
            "image 46/150 /content/drive/MyDrive/머신러닝YOLO/dataset/test/images/GH010098_frame1920_jpg.rf.04e2b0620e71b63a908fe4979da3a9b7.jpg: 640x640 2 persons, 1 wheelchair, 9.6ms\n",
            "image 47/150 /content/drive/MyDrive/머신러닝YOLO/dataset/test/images/GH010098_frame1950_jpg.rf.8cf1b9d18afea19ed330f68589823b37.jpg: 640x640 1 person, 2 wheelchairs, 9.5ms\n",
            "image 48/150 /content/drive/MyDrive/머신러닝YOLO/dataset/test/images/GH010098_frame1980_jpg.rf.115a2eaf62ef56838b4cd83a4f5d99f4.jpg: 640x640 2 persons, 2 wheelchairs, 9.5ms\n",
            "image 49/150 /content/drive/MyDrive/머신러닝YOLO/dataset/test/images/GH010098_frame2010_jpg.rf.64e9464264b71e559450089dd2575e5e.jpg: 640x640 2 persons, 2 wheelchairs, 9.5ms\n",
            "image 50/150 /content/drive/MyDrive/머신러닝YOLO/dataset/test/images/GH010098_frame2040_jpg.rf.d2dcc0a3c0998aa7687a91ddbac2e32c.jpg: 640x640 2 persons, 2 wheelchairs, 9.5ms\n",
            "image 51/150 /content/drive/MyDrive/머신러닝YOLO/dataset/test/images/GH010098_frame2070_jpg.rf.5ca2f8cedde42ce749f4ecdc7a575a6b.jpg: 640x640 1 person, 3 wheelchairs, 9.5ms\n",
            "image 52/150 /content/drive/MyDrive/머신러닝YOLO/dataset/test/images/GH010098_frame2100_jpg.rf.95564398be98a002c73f6362acd9dbf1.jpg: 640x640 2 persons, 2 wheelchairs, 9.5ms\n",
            "image 53/150 /content/drive/MyDrive/머신러닝YOLO/dataset/test/images/GH010098_frame2130_jpg.rf.9311680d0aeb6a937c533729d837cc22.jpg: 640x640 2 persons, 2 wheelchairs, 9.5ms\n",
            "image 54/150 /content/drive/MyDrive/머신러닝YOLO/dataset/test/images/GH010098_frame2160_jpg.rf.8887865384f9735d109280d46f1b1ac0.jpg: 640x640 2 persons, 2 wheelchairs, 9.5ms\n",
            "image 55/150 /content/drive/MyDrive/머신러닝YOLO/dataset/test/images/GH010098_frame2190_jpg.rf.b38cdaa6782b866924f2f0f5f1c30f59.jpg: 640x640 2 persons, 2 wheelchairs, 9.5ms\n",
            "image 56/150 /content/drive/MyDrive/머신러닝YOLO/dataset/test/images/GH010098_frame2220_jpg.rf.e0321874e46a063db79661a5eb6af018.jpg: 640x640 2 persons, 2 wheelchairs, 9.6ms\n",
            "image 57/150 /content/drive/MyDrive/머신러닝YOLO/dataset/test/images/GH010098_frame2280_jpg.rf.20e118292252b3ba92e5d9d2b8560214.jpg: 640x640 2 persons, 2 wheelchairs, 9.5ms\n",
            "image 58/150 /content/drive/MyDrive/머신러닝YOLO/dataset/test/images/GH010098_frame2310_jpg.rf.631b1c081a0c7a3ae91752e1f9d87ee8.jpg: 640x640 3 persons, 2 wheelchairs, 9.5ms\n",
            "image 59/150 /content/drive/MyDrive/머신러닝YOLO/dataset/test/images/GH010098_frame2370_jpg.rf.9ffbf756bed8324c1664da6c1dda2a64.jpg: 640x640 2 persons, 2 wheelchairs, 9.5ms\n",
            "image 60/150 /content/drive/MyDrive/머신러닝YOLO/dataset/test/images/GH010098_frame2400_jpg.rf.b9150aef400d2db74f42d063ae5f3ef6.jpg: 640x640 2 persons, 2 wheelchairs, 9.5ms\n",
            "image 61/150 /content/drive/MyDrive/머신러닝YOLO/dataset/test/images/GH010098_frame2430_jpg.rf.6140ef61b5ff9c4ae36371240f422f38.jpg: 640x640 3 persons, 3 wheelchairs, 9.5ms\n",
            "image 62/150 /content/drive/MyDrive/머신러닝YOLO/dataset/test/images/GH010098_frame2460_jpg.rf.039b73b78ddf916af0a0f68730ec9974.jpg: 640x640 2 persons, 2 wheelchairs, 9.6ms\n",
            "image 63/150 /content/drive/MyDrive/머신러닝YOLO/dataset/test/images/GH010098_frame2490_jpg.rf.60098b141ce0a980c8024511a462f1d1.jpg: 640x640 1 person, 2 wheelchairs, 9.7ms\n",
            "image 64/150 /content/drive/MyDrive/머신러닝YOLO/dataset/test/images/GH010098_frame2520_jpg.rf.2ac91b9339216a8880a5db02d506fb57.jpg: 640x640 2 persons, 2 wheelchairs, 9.6ms\n",
            "image 65/150 /content/drive/MyDrive/머신러닝YOLO/dataset/test/images/GH010098_frame2550_jpg.rf.6f23ef804285b99333cfe37f563dab0d.jpg: 640x640 2 persons, 2 wheelchairs, 9.6ms\n",
            "image 66/150 /content/drive/MyDrive/머신러닝YOLO/dataset/test/images/GH010098_frame2580_jpg.rf.602cc8b0ba5181d6c576661bfb645422.jpg: 640x640 2 persons, 3 wheelchairs, 9.6ms\n",
            "image 67/150 /content/drive/MyDrive/머신러닝YOLO/dataset/test/images/GH010098_frame2610_jpg.rf.e692b204683272080ee942090908bf0f.jpg: 640x640 1 person, 3 wheelchairs, 9.5ms\n",
            "image 68/150 /content/drive/MyDrive/머신러닝YOLO/dataset/test/images/GH010098_frame2640_jpg.rf.02acbe229449d2c611773ac840d09193.jpg: 640x640 2 persons, 3 wheelchairs, 9.6ms\n",
            "image 69/150 /content/drive/MyDrive/머신러닝YOLO/dataset/test/images/GH010098_frame2670_jpg.rf.18f2077976f0244b4bc03fb5db6f7678.jpg: 640x640 2 persons, 1 wheelchair, 9.5ms\n",
            "image 70/150 /content/drive/MyDrive/머신러닝YOLO/dataset/test/images/GH010098_frame2730_jpg.rf.73356f4be088e8a0e4d532a8c60d597a.jpg: 640x640 2 persons, 2 wheelchairs, 9.6ms\n",
            "image 71/150 /content/drive/MyDrive/머신러닝YOLO/dataset/test/images/GH010098_frame2760_jpg.rf.842a8aba159c4f14ecb9f898ac148ab7.jpg: 640x640 2 persons, 2 wheelchairs, 9.5ms\n",
            "image 72/150 /content/drive/MyDrive/머신러닝YOLO/dataset/test/images/GH010098_frame2790_jpg.rf.e342dcf43c825114f5e24446da8dbaa9.jpg: 640x640 1 person, 1 wheelchair, 9.5ms\n",
            "image 73/150 /content/drive/MyDrive/머신러닝YOLO/dataset/test/images/GH010098_frame2820_jpg.rf.3629df285a11930593f089d7ff4a246e.jpg: 640x640 1 person, 1 wheelchair, 9.5ms\n",
            "image 74/150 /content/drive/MyDrive/머신러닝YOLO/dataset/test/images/GH010098_frame2850_jpg.rf.ce8502aab6f6fbb569ca1a38a6166592.jpg: 640x640 2 persons, 2 wheelchairs, 9.5ms\n",
            "image 75/150 /content/drive/MyDrive/머신러닝YOLO/dataset/test/images/GH010098_frame2910_jpg.rf.5906cac66becdfbaa947114ecba7bb9c.jpg: 640x640 3 persons, 2 wheelchairs, 9.5ms\n",
            "image 76/150 /content/drive/MyDrive/머신러닝YOLO/dataset/test/images/GH010098_frame2940_jpg.rf.2e305155df54001c2af751f9463c3e67.jpg: 640x640 2 persons, 1 wheelchair, 9.5ms\n",
            "image 77/150 /content/drive/MyDrive/머신러닝YOLO/dataset/test/images/GH010098_frame3000_jpg.rf.70cc3c89a23ed2d0f0a0d189700a340c.jpg: 640x640 3 persons, 2 wheelchairs, 9.6ms\n",
            "image 78/150 /content/drive/MyDrive/머신러닝YOLO/dataset/test/images/GH010098_frame3030_jpg.rf.ea195ea57648b5b9f844b8e0dd70bda9.jpg: 640x640 2 persons, 2 wheelchairs, 9.6ms\n",
            "image 79/150 /content/drive/MyDrive/머신러닝YOLO/dataset/test/images/GH010098_frame3060_jpg.rf.a4f54ff1b3508107c433310c8e637cb5.jpg: 640x640 2 persons, 2 wheelchairs, 9.5ms\n",
            "image 80/150 /content/drive/MyDrive/머신러닝YOLO/dataset/test/images/GH010098_frame3120_jpg.rf.e21012ed2636f848ccfc08f36bae5ddb.jpg: 640x640 2 persons, 2 wheelchairs, 9.5ms\n",
            "image 81/150 /content/drive/MyDrive/머신러닝YOLO/dataset/test/images/GH010098_frame3150_jpg.rf.1db5409b434e7e9458738ee796e819d1.jpg: 640x640 2 persons, 2 wheelchairs, 9.4ms\n",
            "image 82/150 /content/drive/MyDrive/머신러닝YOLO/dataset/test/images/GH010098_frame3180_jpg.rf.e37b33990d2ce31cb318e9f57093aa76.jpg: 640x640 3 persons, 2 wheelchairs, 9.4ms\n",
            "image 83/150 /content/drive/MyDrive/머신러닝YOLO/dataset/test/images/GH010098_frame3210_jpg.rf.8d435cae659d3f43fa93d1f74566acde.jpg: 640x640 2 persons, 2 wheelchairs, 9.4ms\n",
            "image 84/150 /content/drive/MyDrive/머신러닝YOLO/dataset/test/images/GH010098_frame3270_jpg.rf.29b346d5da45388eeaa2519132944169.jpg: 640x640 2 persons, 2 wheelchairs, 9.5ms\n",
            "image 85/150 /content/drive/MyDrive/머신러닝YOLO/dataset/test/images/GH010098_frame3300_jpg.rf.6f5175530895cf4388d59c620638b377.jpg: 640x640 2 persons, 3 wheelchairs, 9.4ms\n",
            "image 86/150 /content/drive/MyDrive/머신러닝YOLO/dataset/test/images/GH010098_frame3330_jpg.rf.80fd46413f4ebab848cf8457d010a102.jpg: 640x640 2 persons, 1 wheelchair, 9.4ms\n",
            "image 87/150 /content/drive/MyDrive/머신러닝YOLO/dataset/test/images/GH010098_frame3360_jpg.rf.e1e51ae40c37f8d2d813190cfb4d3480.jpg: 640x640 2 persons, 2 wheelchairs, 9.4ms\n",
            "image 88/150 /content/drive/MyDrive/머신러닝YOLO/dataset/test/images/GH010098_frame3390_jpg.rf.2ce11749d62c2032204fafbf53962b3f.jpg: 640x640 2 persons, 1 wheelchair, 9.4ms\n",
            "image 89/150 /content/drive/MyDrive/머신러닝YOLO/dataset/test/images/GH010098_frame3420_jpg.rf.9b27ce1dd95a341848a822705d8a485a.jpg: 640x640 2 persons, 3 wheelchairs, 9.4ms\n",
            "image 90/150 /content/drive/MyDrive/머신러닝YOLO/dataset/test/images/GH010098_frame3450_jpg.rf.1e38de661809ac352fe8267597eee5d3.jpg: 640x640 2 persons, 1 wheelchair, 9.4ms\n",
            "image 91/150 /content/drive/MyDrive/머신러닝YOLO/dataset/test/images/GH010098_frame3480_jpg.rf.2650496f0c1247c4c0a39c1bbfc54f05.jpg: 640x640 2 persons, 2 wheelchairs, 9.4ms\n",
            "image 92/150 /content/drive/MyDrive/머신러닝YOLO/dataset/test/images/GH010098_frame3510_jpg.rf.1644515a96a73b587ee7518191ab23bc.jpg: 640x640 3 persons, 2 wheelchairs, 9.4ms\n",
            "image 93/150 /content/drive/MyDrive/머신러닝YOLO/dataset/test/images/GH010098_frame3540_jpg.rf.a946afc3fdcb76a27f57781d55ce3559.jpg: 640x640 2 persons, 2 wheelchairs, 9.4ms\n",
            "image 94/150 /content/drive/MyDrive/머신러닝YOLO/dataset/test/images/GH010098_frame3570_jpg.rf.3a1ea0646430e0d900ec51ed4ada8b2d.jpg: 640x640 2 persons, 3 wheelchairs, 9.4ms\n",
            "image 95/150 /content/drive/MyDrive/머신러닝YOLO/dataset/test/images/GH010098_frame3600_jpg.rf.69d076c8ffb15ed53a76409cbdd24070.jpg: 640x640 2 persons, 2 wheelchairs, 9.4ms\n",
            "image 96/150 /content/drive/MyDrive/머신러닝YOLO/dataset/test/images/GH010098_frame3630_jpg.rf.cc10edb274d84655675c3db7f3daed0a.jpg: 640x640 2 persons, 2 wheelchairs, 9.4ms\n",
            "image 97/150 /content/drive/MyDrive/머신러닝YOLO/dataset/test/images/GH010098_frame3660_jpg.rf.c9a09f0151e7841688ab283dee31ce3e.jpg: 640x640 2 persons, 2 wheelchairs, 9.8ms\n",
            "image 98/150 /content/drive/MyDrive/머신러닝YOLO/dataset/test/images/GH010098_frame3690_jpg.rf.a19eb5011a462cef4e01f971d8eba375.jpg: 640x640 3 persons, 2 wheelchairs, 9.4ms\n",
            "image 99/150 /content/drive/MyDrive/머신러닝YOLO/dataset/test/images/GH010098_frame3720_jpg.rf.48b499e17d86ace610d2af7cd0b62da3.jpg: 640x640 3 persons, 2 wheelchairs, 9.4ms\n",
            "image 100/150 /content/drive/MyDrive/머신러닝YOLO/dataset/test/images/GH010098_frame3780_jpg.rf.341f721237ea5b584b9d9b5e513f872e.jpg: 640x640 2 persons, 1 wheelchair, 9.4ms\n",
            "image 101/150 /content/drive/MyDrive/머신러닝YOLO/dataset/test/images/GH010098_frame3810_jpg.rf.cc551af4c88f045e79dc61edf9a52158.jpg: 640x640 1 person, 1 wheelchair, 9.4ms\n",
            "image 102/150 /content/drive/MyDrive/머신러닝YOLO/dataset/test/images/GH010098_frame3840_jpg.rf.72d5b22c2fbcaabe48718c9550eae177.jpg: 640x640 1 person, 1 wheelchair, 9.4ms\n",
            "image 103/150 /content/drive/MyDrive/머신러닝YOLO/dataset/test/images/GH010098_frame3870_jpg.rf.45e9bb3fea9256e56d1ce5af51bf5dd2.jpg: 640x640 1 person, 1 wheelchair, 9.4ms\n",
            "image 104/150 /content/drive/MyDrive/머신러닝YOLO/dataset/test/images/GH010098_frame3900_jpg.rf.5858e0fc66de08fc874ed50425a5b695.jpg: 640x640 2 persons, 1 wheelchair, 9.4ms\n",
            "image 105/150 /content/drive/MyDrive/머신러닝YOLO/dataset/test/images/GH010098_frame3930_jpg.rf.d6c4d8fd9905c0772c682b85fc9ccd64.jpg: 640x640 1 person, 1 wheelchair, 9.4ms\n",
            "image 106/150 /content/drive/MyDrive/머신러닝YOLO/dataset/test/images/GH010098_frame3960_jpg.rf.02ace170c184929ebb5d13faf0e1c573.jpg: 640x640 2 persons, 1 wheelchair, 9.4ms\n",
            "image 107/150 /content/drive/MyDrive/머신러닝YOLO/dataset/test/images/GH010098_frame3990_jpg.rf.cda631c4e3248abc24cce917197fe54c.jpg: 640x640 1 person, 1 wheelchair, 9.4ms\n",
            "image 108/150 /content/drive/MyDrive/머신러닝YOLO/dataset/test/images/GH010098_frame4020_jpg.rf.e898e4987d4917858085de5d5cb7d9a5.jpg: 640x640 1 person, 1 wheelchair, 9.4ms\n",
            "image 109/150 /content/drive/MyDrive/머신러닝YOLO/dataset/test/images/GH010098_frame4050_jpg.rf.388bdc2d5e61b09748dd97c6069dda4c.jpg: 640x640 (no detections), 9.4ms\n",
            "image 110/150 /content/drive/MyDrive/머신러닝YOLO/dataset/test/images/GH010098_frame780_jpg.rf.8d1c7a1f08a6810789c54023b6a2cad8.jpg: 640x640 1 person, 9.4ms\n",
            "image 111/150 /content/drive/MyDrive/머신러닝YOLO/dataset/test/images/GH010098_frame810_jpg.rf.ef1cdf192af370fda0d4a0a6b3730d57.jpg: 640x640 1 person, 9.4ms\n",
            "image 112/150 /content/drive/MyDrive/머신러닝YOLO/dataset/test/images/GH010098_frame870_jpg.rf.004a48eb5001fd5fb3b4f12e7f309877.jpg: 640x640 2 persons, 9.4ms\n",
            "image 113/150 /content/drive/MyDrive/머신러닝YOLO/dataset/test/images/GH010098_frame900_jpg.rf.1f917cb07dbfd5e3d869e29ca3c9eac0.jpg: 640x640 1 person, 9.4ms\n",
            "image 114/150 /content/drive/MyDrive/머신러닝YOLO/dataset/test/images/GH010098_frame930_jpg.rf.05c7701449c62d9076faccb820d83154.jpg: 640x640 2 persons, 1 wheelchair, 9.4ms\n",
            "image 115/150 /content/drive/MyDrive/머신러닝YOLO/dataset/test/images/GH010098_frame990_jpg.rf.3ccbb6ca5f5863c9fe8fef2cd6f5e81e.jpg: 640x640 2 persons, 1 wheelchair, 9.4ms\n",
            "image 116/150 /content/drive/MyDrive/머신러닝YOLO/dataset/test/images/GH010099_frame1020_jpg.rf.fd49e5555b6d6a4b348c02189e523d54.jpg: 640x640 2 persons, 1 wheelchair, 9.4ms\n",
            "image 117/150 /content/drive/MyDrive/머신러닝YOLO/dataset/test/images/GH010099_frame1050_jpg.rf.ebfc6c2416ee793c22f67a89bf8921d9.jpg: 640x640 2 persons, 1 wheelchair, 9.4ms\n",
            "image 118/150 /content/drive/MyDrive/머신러닝YOLO/dataset/test/images/GH010099_frame1080_jpg.rf.abf51df3d4cb6634a0fb440d95841143.jpg: 640x640 2 persons, 1 wheelchair, 9.4ms\n",
            "image 119/150 /content/drive/MyDrive/머신러닝YOLO/dataset/test/images/GH010099_frame1110_jpg.rf.05d5db72131258bbbafbac50cb179962.jpg: 640x640 2 persons, 1 wheelchair, 9.4ms\n",
            "image 120/150 /content/drive/MyDrive/머신러닝YOLO/dataset/test/images/GH010099_frame1140_jpg.rf.2f068babf0ad27c740a34cfe7c264407.jpg: 640x640 1 person, 1 wheelchair, 9.4ms\n",
            "image 121/150 /content/drive/MyDrive/머신러닝YOLO/dataset/test/images/GH010099_frame1200_jpg.rf.c4ac00c353252e36dfeacd0c229199c3.jpg: 640x640 2 persons, 1 wheelchair, 9.4ms\n",
            "image 122/150 /content/drive/MyDrive/머신러닝YOLO/dataset/test/images/GH010099_frame1230_jpg.rf.0e7cc3b9ea2216183f2836e50dfc9d9f.jpg: 640x640 2 persons, 1 wheelchair, 9.4ms\n",
            "image 123/150 /content/drive/MyDrive/머신러닝YOLO/dataset/test/images/GH010099_frame1260_jpg.rf.dbdd3b5d8d09a4ed95735d8724b0ff3d.jpg: 640x640 2 persons, 2 wheelchairs, 9.4ms\n",
            "image 124/150 /content/drive/MyDrive/머신러닝YOLO/dataset/test/images/GH010099_frame1290_jpg.rf.99b847089566989639b4a507fd4bd54f.jpg: 640x640 2 persons, 2 wheelchairs, 9.4ms\n",
            "image 125/150 /content/drive/MyDrive/머신러닝YOLO/dataset/test/images/GH010099_frame1320_jpg.rf.62c693ed3f8ccc9b2a45cdd806412d09.jpg: 640x640 2 persons, 1 wheelchair, 9.4ms\n",
            "image 126/150 /content/drive/MyDrive/머신러닝YOLO/dataset/test/images/GH010099_frame480_jpg.rf.1b8e0cc1e39ebaaef282af93658a1800.jpg: 640x640 (no detections), 9.4ms\n",
            "image 127/150 /content/drive/MyDrive/머신러닝YOLO/dataset/test/images/GH010099_frame510_jpg.rf.7d5173f0ed0de8e67794deeca44e1420.jpg: 640x640 2 persons, 9.4ms\n",
            "image 128/150 /content/drive/MyDrive/머신러닝YOLO/dataset/test/images/GH010099_frame540_jpg.rf.2f158bbe71f1e04dce1cd8f369018d4a.jpg: 640x640 2 persons, 9.4ms\n",
            "image 129/150 /content/drive/MyDrive/머신러닝YOLO/dataset/test/images/GH010099_frame570_jpg.rf.2a8674e0bbe2d2209c2ffef410b6ab94.jpg: 640x640 2 persons, 9.4ms\n",
            "image 130/150 /content/drive/MyDrive/머신러닝YOLO/dataset/test/images/GH010099_frame600_jpg.rf.e789b3367ee25b8e6966fe2cce5016c0.jpg: 640x640 1 person, 9.4ms\n",
            "image 131/150 /content/drive/MyDrive/머신러닝YOLO/dataset/test/images/GH010099_frame630_jpg.rf.8136573ae92e84a36cd6813e6ff4d616.jpg: 640x640 1 person, 1 wheelchair, 9.4ms\n",
            "image 132/150 /content/drive/MyDrive/머신러닝YOLO/dataset/test/images/GH010099_frame690_jpg.rf.28adb81ad09b7720af7f0b71cbb05166.jpg: 640x640 1 person, 9.4ms\n",
            "image 133/150 /content/drive/MyDrive/머신러닝YOLO/dataset/test/images/GH010099_frame720_jpg.rf.8636bf987d3ddf48520f2113a075ab88.jpg: 640x640 1 person, 1 wheelchair, 9.4ms\n",
            "image 134/150 /content/drive/MyDrive/머신러닝YOLO/dataset/test/images/GH010099_frame750_jpg.rf.e7fa8b578314c7565093280823f495ac.jpg: 640x640 1 person, 9.4ms\n",
            "image 135/150 /content/drive/MyDrive/머신러닝YOLO/dataset/test/images/GH010099_frame810_jpg.rf.6068ab70ebc923f53583d1acb47893d1.jpg: 640x640 2 persons, 2 wheelchairs, 9.4ms\n",
            "image 136/150 /content/drive/MyDrive/머신러닝YOLO/dataset/test/images/GH010099_frame870_jpg.rf.f5fc796f838981f73d6a332206cbce4d.jpg: 640x640 2 persons, 2 wheelchairs, 9.3ms\n",
            "image 137/150 /content/drive/MyDrive/머신러닝YOLO/dataset/test/images/GH010099_frame900_jpg.rf.c3675a602dd8f9990a125790f2195666.jpg: 640x640 2 persons, 2 wheelchairs, 9.1ms\n",
            "image 138/150 /content/drive/MyDrive/머신러닝YOLO/dataset/test/images/GH010099_frame930_jpg.rf.3c109186330a2ef01c9d0b1867d55121.jpg: 640x640 2 persons, 1 wheelchair, 9.1ms\n",
            "image 139/150 /content/drive/MyDrive/머신러닝YOLO/dataset/test/images/GH010099_frame990_jpg.rf.00345f8e7dab3ea09d7070b5533b7393.jpg: 640x640 2 persons, 1 wheelchair, 9.1ms\n",
            "image 140/150 /content/drive/MyDrive/머신러닝YOLO/dataset/test/images/GH010101_frame0_jpg.rf.280cf9299872c33b724c33c3e50494fb.jpg: 640x640 2 persons, 1 wheelchair, 9.2ms\n",
            "image 141/150 /content/drive/MyDrive/머신러닝YOLO/dataset/test/images/GH010101_frame1020_jpg.rf.acd640af1649e7215b5bfcebcef34da1.jpg: 640x640 3 persons, 3 wheelchairs, 9.1ms\n",
            "image 142/150 /content/drive/MyDrive/머신러닝YOLO/dataset/test/images/GH010101_frame1050_jpg.rf.571b9c7e457db3f953b65e91becea6c1.jpg: 640x640 3 persons, 2 wheelchairs, 9.1ms\n",
            "image 143/150 /content/drive/MyDrive/머신러닝YOLO/dataset/test/images/GH010101_frame1080_jpg.rf.7a5d43504155c90123332604ca05521b.jpg: 640x640 3 persons, 3 wheelchairs, 9.1ms\n",
            "image 144/150 /content/drive/MyDrive/머신러닝YOLO/dataset/test/images/GH010101_frame1110_jpg.rf.4de6fbef44b7213e1629b0e72e55fee7.jpg: 640x640 4 persons, 3 wheelchairs, 9.1ms\n",
            "image 145/150 /content/drive/MyDrive/머신러닝YOLO/dataset/test/images/GH010101_frame1140_jpg.rf.8afce9411aeaf48a27fb6be83eb48224.jpg: 640x640 3 persons, 3 wheelchairs, 9.1ms\n",
            "image 146/150 /content/drive/MyDrive/머신러닝YOLO/dataset/test/images/GH010101_frame1170_jpg.rf.db839d207ae2aa998e1f66b78b611f13.jpg: 640x640 3 persons, 3 wheelchairs, 9.1ms\n",
            "image 147/150 /content/drive/MyDrive/머신러닝YOLO/dataset/test/images/GH010101_frame1200_jpg.rf.b6652bbd157ff405896e76fffc21b421.jpg: 640x640 4 persons, 2 wheelchairs, 9.1ms\n",
            "image 148/150 /content/drive/MyDrive/머신러닝YOLO/dataset/test/images/GH010101_frame120_jpg.rf.76ef2fac0342cea35bf80c650b6e0b79.jpg: 640x640 2 persons, 3 wheelchairs, 9.1ms\n",
            "image 149/150 /content/drive/MyDrive/머신러닝YOLO/dataset/test/images/GH010101_frame1230_jpg.rf.2dd16bca111a871109ccab336baf811f.jpg: 640x640 3 persons, 3 wheelchairs, 9.1ms\n",
            "image 150/150 /content/drive/MyDrive/머신러닝YOLO/dataset/test/images/GH010101_frame1260_jpg.rf.db0fef7c27685b9eefa8730601d05f4c.jpg: 640x640 3 persons, 3 wheelchairs, 9.1ms\n",
            "Speed: 0.5ms pre-process, 9.7ms inference, 4.3ms NMS per image at shape (1, 3, 640, 640)\n",
            "Results saved to \u001b[1mruns/detect/detectResult\u001b[0m\n"
          ]
        },
        {
          "output_type": "execute_result",
          "data": {
            "image/jpeg": "[encoded data removed]",
            "text/plain": [
              "<IPython.core.display.Image object>"
            ]
          },
          "metadata": {
            "image/jpeg": {
              "width": 600
            }
          },
          "execution_count": 12
        }
      ]
    },
    {
      "cell_type": "code",
      "source": [
        "# 드라이브저장\n",
        "\n",
        "!cp -r /content/yolov5/runs/detect/detectResult /content/drive/MyDrive/머신러닝YOLO/detectResult"
      ],
      "metadata": {
        "id": "K8r3zEv46cK9"
      },
      "execution_count": null,
      "outputs": []
    },
    {
      "cell_type": "markdown",
      "source": [
        "---"
      ],
      "metadata": {
        "id": "ry6WGqzYkfKR"
      }
    }
  ]
}